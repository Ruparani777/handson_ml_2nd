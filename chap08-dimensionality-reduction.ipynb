{
 "cells": [
  {
   "cell_type": "markdown",
   "metadata": {},
   "source": [
    "# <center>chap8. Dimensionality Reduction</center>\n",
    "---"
   ]
  },
  {
   "cell_type": "code",
   "execution_count": 1,
   "metadata": {
    "ExecuteTime": {
     "end_time": "2020-01-31T14:10:34.823746Z",
     "start_time": "2020-01-31T14:10:33.908070Z"
    },
    "code_folding": []
   },
   "outputs": [],
   "source": [
    "# Common imports\n",
    "import os\n",
    "import sys\n",
    "import time\n",
    "import warnings\n",
    "\n",
    "import matplotlib as mpl\n",
    "import matplotlib.pyplot as plt\n",
    "import numpy as np\n",
    "import pandas as pd\n",
    "import sklearn\n",
    "\n",
    "%matplotlib inline\n",
    "mpl.rc('axes', labelsize=14)\n",
    "mpl.rc('xtick', labelsize=12)\n",
    "mpl.rc('ytick', labelsize=12)\n",
    "\n",
    "np.random.seed(42)\n",
    "# warnings.filterwarnings(action='ignore', message=\"^internal gelsd\")"
   ]
  },
  {
   "cell_type": "code",
   "execution_count": 2,
   "metadata": {
    "ExecuteTime": {
     "end_time": "2020-01-31T14:10:34.829003Z",
     "start_time": "2020-01-31T14:10:34.825354Z"
    }
   },
   "outputs": [
    {
     "name": "stdout",
     "output_type": "stream",
     "text": [
      "python version: sys.version_info(major=3, minor=6, micro=9, releaselevel='final', serial=0)\n",
      "matplotlib version: 3.1.2\n",
      "numpy version: 1.18.1\n",
      "pandas version: 0.25.3\n",
      "scikit-learn version: 0.22.1\n"
     ]
    }
   ],
   "source": [
    "print('python version:', sys.version_info)\n",
    "print('matplotlib version:', mpl.__version__)\n",
    "print('numpy version:', np.__version__)\n",
    "print('pandas version:', pd.__version__)\n",
    "print('scikit-learn version:', sklearn.__version__)"
   ]
  },
  {
   "cell_type": "markdown",
   "metadata": {},
   "source": [
    "**<font color='crimson'>curse of dimensionality:</font>**\n",
    "+ make training extremely slow\n",
    "\n",
    "\n",
    "+ make training much harder to find a good solution\n",
    "\n",
    "<br>\n",
    "\n",
    "Fortunately, in real-world problems, it is often possible to reduce the number of features considerably (相当地、非常地), turning an intractable (棘手的) problem into a tractable (异处理的) one. \n",
    "\n",
    "> **<font color='blue'>Examples:</font> the MNIST images.**\n",
    "> + the pixels on the image borders are almost always white, so you can completely drop these pixels from the training set without losing much info.\n",
    "> + two neighboring pixels are often highly correlated: if you merge them into a single pixel (e.g., take the mean of the two pixel intensities), you will not loss much info."
   ]
  },
  {
   "cell_type": "markdown",
   "metadata": {},
   "source": [
    "**<font color='crimson'>dimensionality reduction:</font>**\n",
    "\n",
    "+ it will **speed up training**.\n",
    "\n",
    "\n",
    "+ it **does cause some information loss**, so it **may reduce the system's performance**. In some cases, it may filter out some noise and unnecessary details, and this will result in higher performance, but in general it won't.\n",
    "\n",
    "\n",
    "+ it **make the pipelines a bit more complex and thus harder to maintain**.\n",
    "\n",
    "\n",
    "+ it's extremely useful for data visualization (or *DataViz*).\n",
    "\n",
    "\n",
    "+ you should **first try to train the system with original data** before consider using dimensionality reduction.\n"
   ]
  },
  {
   "cell_type": "markdown",
   "metadata": {},
   "source": [
    "**<font color='crimson'>data visualization (DataViz):</font>**\n",
    "\n",
    "+ Reducing the number of dimensions down to two (or three) makes it possible to plot a condensed view of a high-dimensional training set on a graph and often gain some important insights by visually detecting patterns, such as clusters.\n",
    "\n",
    "\n",
    "+ DataViz is essential to communicate your conclusions to people who are not data scientists."
   ]
  },
  {
   "cell_type": "markdown",
   "metadata": {},
   "source": [
    "# 1. The curse of dimensionality"
   ]
  },
  {
   "cell_type": "markdown",
   "metadata": {},
   "source": [
    "![0D-to-4D-hypercubes](./figs/chap08-figs/0D-to-4D-hypercubes.png)\n",
    "<center>Point, segment, square, cube and tesseract (立方体的 4 维模型、超正方体) <b>0D to 4D hypercubes</b></center>"
   ]
  },
  {
   "cell_type": "markdown",
   "metadata": {},
   "source": [
    "**<font color='crimson'>It turns out that many things behave very differently in high-dimensional space.</font>**\n",
    "\n",
    "+ If you pick a random point in a unit square (a 1 × 1 square), it will have only about a 0.4% chance of being located less than 0.001 from a border (in other words, it is very unlikely that a random point will be “extreme” along any dimension). But in a 10,000-dimensional unit hypercube, this probability is greater than 99.999999%. **<font color='blue'>Most points in a high-dimensional hypercube are very close to the border</font>**.\n",
    "\n",
    "\n",
    "+ If you pick two points randomly in a unit square, the distance between these two points will be, on average, roughly 0.52. If you pick two random points in a unit 3D cube, the average distance will be roughly 0.66. But if you pick two points picked randomly in a 1,000,000-dimensional hypercube, the average distance will be about 408.25 (roughly $\\sqrt{1000000/6}$)! **<font color='blue'>There's just plenty of space in high dimensions, high-dimensional datasets are at risk of being very sparse: most training instances are likely to be far away from each other</font>**. This also means that **a new instance will likely be far away from any training instance, making predictions much less reliable than in lower dimensions**, since they will be based on much larger extrapolations (推断). In short, **<font color='blue'>the more dimensions the training set has, the greater the risk of overfitting it.</font>**"
   ]
  },
  {
   "cell_type": "markdown",
   "metadata": {},
   "source": [
    "**In theory, one solution to the curse of dimensionality could be to increase the size of the training set to reach a sufficient density of training instances. Unfortunately, in practice, the number of training instances required to reach a given density grows exponentially with the number of dimensions.** With just 100 features (significantly fewer than in the MNIST problem), you would need more training instances than atoms in the observable universe in order for training instances to be within 0.1 of each other on average, assuming they were spread out uniformly across all dimensions."
   ]
  },
  {
   "cell_type": "markdown",
   "metadata": {},
   "source": [
    "# 2. Main approaches for dimensionality reduction"
   ]
  },
  {
   "cell_type": "markdown",
   "metadata": {},
   "source": [
    "**<font color='crimson'>two main approaches to reducing dimesionality:</font>**\n",
    "\n",
    "+ **projection**\n",
    "\n",
    "\n",
    "+ **Mainfold learning**"
   ]
  },
  {
   "cell_type": "markdown",
   "metadata": {},
   "source": [
    "## 2.1 Projection"
   ]
  },
  {
   "cell_type": "markdown",
   "metadata": {},
   "source": [
    "In most real-world problems, training instances are not spread out uniformly across all dimensions. Many features are almost constant, while others are highly correlated (such as MNIST). As a result, all training instances lie within (or close to) a much lower-dimensional subspace of the high-dimensional space.\n",
    "\n",
    "![3D-dataset-close-to-a-2D-subspace](./figs/chap08-figs/3D-dataset-close-to-a-2D-subspace.png)\n",
    "\n",
    "<center> A 3D dataset lying close to a 2D subspace</center>"
   ]
  },
  {
   "cell_type": "markdown",
   "metadata": {},
   "source": [
    "Notice that all training instances lie close to a plane: this is a lower-dimensional (2D) subspace of the high-dimensional (3D) space. We will get the new 2D dataset if we project every training instance perpendicularly (垂直地) onto this subspace.\n",
    "\n",
    "![new-2D-dataset-after-projection](./figs/chap08-figs/new-2D-dataset-after-projection.png)\n",
    "<center>The new 2D dataset after projection</center>\n",
    "\n",
    "> The axes correspond to new features z1 and z2 (the coordinates of the projections on the plane)."
   ]
  },
  {
   "cell_type": "markdown",
   "metadata": {},
   "source": [
    "**<font color='crimsion'>Projection is not always the best approach to dimensionality reduction.</font>** In many cases, the subspace may twist and turn, such as the **Swiss roll toy** dataset.\n",
    "\n",
    "![swiss-roll-dataset](./figs/chap08-figs/swiss-roll-dataset.png)\n",
    "<center>Swiss roll dataset</center>"
   ]
  },
  {
   "cell_type": "markdown",
   "metadata": {},
   "source": [
    "Simply projecting onto a plane (e.g., by dropping x3) would squash(压扁、挤扁) different layers of the Swiss roll together (left figure). What you really want is to unroll the Swiss roll to obtain the 2D dataset on the right figure.\n",
    "\n",
    "![swiss-roll-dataset-dimensionality-reduced](./figs/chap08-figs/swiss-roll-dataset-dimensionality-reduced.png)\n",
    "\n",
    "<center>Squash (压扁) by projection onto a plane (left) v.s. unroll the Swiss roll (right)</center>"
   ]
  },
  {
   "cell_type": "markdown",
   "metadata": {},
   "source": [
    "## 2.2 Mainfold learning"
   ]
  },
  {
   "cell_type": "markdown",
   "metadata": {},
   "source": [
    "**The Swiss roll is an example of a 2D manifold**.\n",
    "\n",
    "Put simply, **<font color='crimson'>a 2D manifold is a 2D shape that can be bent and twisted in a higher-dimensional space</font>**. More generally, **<font color='crimson'>a d-dimensional manifold is a part of an n-dimensional space (d < n) that locally resembles a d-dimensional hyperplane</font>**.\n",
    "\n",
    "Here, d = 2 and n = 3: it locally resembles a 2D plane, but it is rolled in the third dimension."
   ]
  },
  {
   "cell_type": "markdown",
   "metadata": {},
   "source": [
    "**<font color='red'>Manifold Learning:</font>** Many dimensionality reduction algorithms work by modeling the manifold on which the training instances lie. **<font color='crimson'>It relies on the manifold assumption.</font>**\n",
    "\n",
    "\n",
    "**<font color='red'>manifold assumption/hypothesis</font> holds that most real-world high-dimensional datasets lie close to a much lower-dimensional manifold.** This assumption is very often empirically observed.\n",
    "\n",
    "> **<font color='blue'>Example:</font>** MNIST images have some similarities - they are made of connected lines, the borders are white, and they are more or less centered. If you randomly generated images, only a ridiculously (令人惊奇地) tiny (微小的) fraction of them would look like handwritten digits. In other words, the degrees of freedom available to you if you try to create a digit image are dramatically lower than the degrees of freedom you would have if you were allowed to generate any image you wanted. **These constraints tend to squeeze the dataset into a lower-dimensional manifold**.\n",
    "\n",
    "**The manifold assumption is often accompanied by <font color='crimson'>another implicit assumption - the task at hand will be simpler if expressed in the lower-dimensional space of the manifold.</font>** However, this implicit assumption does not always hold.\n",
    "\n",
    "> **<font color='blue'>Example:</font>** in the bottom row of figure, the decision boundary is located at x1 = 5. This decision boundary looks very simple in the original 3D space (a vertical plane), but it looks more complex in the unrolled manifold (a collection of four independent line segments).\n",
    "\n",
    "![lower-dimesion-performance](./figs/chap08-figs/lower-dimesion-performance.png)\n",
    "\n",
    "<center>The decision boundary may not always be simpler with lower dimensions</center>\n",
    "\n",
    "<br>\n",
    "\n",
    "In short, **<font color='crimson'>reducing the dimensionality of the training set before training a model will usually speed up training, but it may not always lead to a better or simpler solution; it all depends on the dataset.</font>**"
   ]
  },
  {
   "cell_type": "markdown",
   "metadata": {},
   "source": [
    "# 3. PCA"
   ]
  },
  {
   "cell_type": "markdown",
   "metadata": {},
   "source": [
    "**<font color='red'>Principal Component Analysis (PCA)</font>** is by far the most popular dimensionality reduction algo.\n",
    "\n",
    "+ First, it identifies the hyperplane that lies closest to the data\n",
    "\n",
    "\n",
    "+ Then, it projects the data onto it."
   ]
  },
  {
   "cell_type": "markdown",
   "metadata": {},
   "source": [
    "## 3.1 Preserve the variance"
   ]
  },
  {
   "cell_type": "markdown",
   "metadata": {},
   "source": [
    "**First, you need to choose the right hyperplane.**\n",
    "\n",
    "**<font color='blue'>Example:</font>** a simple 2D dataset is represented on the left along with 3 different axes (i.e., 1D hyperplanes). The right is the result of the projection of the dataset onto each of these axes.\n",
    "\n",
    "![select-the-subspace-to-project-on](./figs/chap08-figs/select-the-subspace-to-project-on.png)\n",
    "\n",
    "+ the projection onto the solid line preserves the maximum variance\n",
    "\n",
    "\n",
    "+ the projection onto the dotted line preserves very little variance\n",
    "\n",
    "\n",
    "+ the projection onto the dashed line preserves an intermediate amount of variance"
   ]
  },
  {
   "cell_type": "markdown",
   "metadata": {},
   "source": [
    "**<font color='blue'>It seems reasonable to select the axis that preserves the maximum amount of variance, as it will most likely lose less information than the other projections.</font>**\n",
    "\n",
    "Another way to **justify this choice** is that **it is the axis that minimizes the mean squared distance between the original dataset and its projection onto that axis**. This is the rather simple idea behind PCA."
   ]
  },
  {
   "cell_type": "markdown",
   "metadata": {},
   "source": [
    "## 3.2 Principal components"
   ]
  },
  {
   "cell_type": "markdown",
   "metadata": {},
   "source": [
    "PCA identifies the axis that **accounts for the largest amount of variance in the dataset** (here, the solid line).\n",
    "\n",
    "It also finds a **second axis**, **orthogonal(正交的) to the first one**, that accounts for the largest amount of remaining variance.\n",
    "\n",
    "PCA would also find **a third axis**, **orthogonal to both previous axes**, and a fourth, a fifth, and so on—as many axes as the number of dimensions in the dataset.\n",
    "\n",
    "\n",
    "The $i^{th}$ axis is called the $i^{th}$ **<font color='crimson'>principal component (PC)</font>** of the data. Here, the first PC is the axis on which vector $c_1$ lies, and the second PC is the axis on which vector $c_2$ lies.\n",
    "\n",
    "In the figure, the first two PCs are the orthogonal axes on which the two arrows lie, on the plane, and the 3rd PC is the axis orthogonal to that plane.\n",
    "\n",
    "<br>\n",
    "\n",
    "<div class='alert alert-block alert-info'>\n",
    "    <center><b>Note</b></center>\n",
    "    For each PC, PCA finds a zero-centered unit vector pointing in the direction of the PC. Since two opposing (方向相反的） unit vectors lie on the same axis, <b>the direction of the unit vectors returned by PCA is not stable: if you perturb the training set slightly and run PCA again, the unit vectors may point in the opposite direction as the original vectors</b>. However, they will generally still lie on the same axes. In some cases, a pair of unit vectors may even rotate or swap (if the variances along these two axes are close), but the plane they define will generally remain the same.\n",
    "</div>"
   ]
  },
  {
   "cell_type": "markdown",
   "metadata": {},
   "source": [
    "**<font color='crimson' size=4>How to find the PCs of a dataset?</font>**\n",
    "\n",
    "Use a standard matrix factorization technique called **<font color='crimson'>SVD (Singular Value Decomposition)</font>**. It can decompose the data $X$ into the matrix multiplication.\n",
    "\n",
    "$$X = U Σ V^T$$\n",
    "\n",
    "**V contains the unit vectors that define all the PCs that we are looking for.** (V 中的列代表一个PC，列数等于特征数)"
   ]
  },
  {
   "cell_type": "code",
   "execution_count": 3,
   "metadata": {
    "ExecuteTime": {
     "end_time": "2020-01-31T14:10:34.835804Z",
     "start_time": "2020-01-31T14:10:34.830762Z"
    }
   },
   "outputs": [],
   "source": [
    "def build_3d_dataset():\n",
    "    np.random.seed(4)\n",
    "    m = 60\n",
    "    w1, w2 = 0.1, 0.3\n",
    "    noise = 0.1\n",
    "\n",
    "    angles = np.random.rand(m) * 3 * np.pi / 2 - 0.5\n",
    "    X = np.empty((m, 3))\n",
    "    X[:, 0] = np.cos(angles) + np.sin(angles)/2 + noise * np.random.randn(m) / 2\n",
    "    X[:, 1] = np.sin(angles) * 0.7 + noise * np.random.randn(m) / 2\n",
    "    X[:, 2] = X[:, 0] * w1 + X[:, 1] * w2 + noise * np.random.randn(m)\n",
    "\n",
    "    return X"
   ]
  },
  {
   "cell_type": "code",
   "execution_count": 4,
   "metadata": {
    "ExecuteTime": {
     "end_time": "2020-01-31T14:10:34.842438Z",
     "start_time": "2020-01-31T14:10:34.837534Z"
    }
   },
   "outputs": [
    {
     "data": {
      "text/plain": [
       "(60, 3)"
      ]
     },
     "execution_count": 4,
     "metadata": {},
     "output_type": "execute_result"
    }
   ],
   "source": [
    "X = build_3d_dataset()\n",
    "X.shape"
   ]
  },
  {
   "cell_type": "code",
   "execution_count": 5,
   "metadata": {
    "ExecuteTime": {
     "end_time": "2020-01-31T14:10:34.849336Z",
     "start_time": "2020-01-31T14:10:34.844631Z"
    }
   },
   "outputs": [
    {
     "data": {
      "text/plain": [
       "((60, 3), (60, 60), (3,), (3, 3))"
      ]
     },
     "execution_count": 5,
     "metadata": {},
     "output_type": "execute_result"
    }
   ],
   "source": [
    "X_centered = X - X.mean(axis=0)\n",
    "# use SVD to obtain all PCs of the data\n",
    "U, s, Vt = np.linalg.svd(X_centered)\n",
    "\n",
    "X_centered.shape, U.shape, s.shape, Vt.shape"
   ]
  },
  {
   "cell_type": "code",
   "execution_count": 6,
   "metadata": {
    "ExecuteTime": {
     "end_time": "2020-01-31T14:10:34.855475Z",
     "start_time": "2020-01-31T14:10:34.852896Z"
    }
   },
   "outputs": [],
   "source": [
    "# the first two PCs\n",
    "c1 = Vt.T[:, 0]\n",
    "c2 = Vt.T[:, 1]"
   ]
  },
  {
   "cell_type": "markdown",
   "metadata": {},
   "source": [
    "## 3.3 Project down to d dimensions"
   ]
  },
  {
   "cell_type": "markdown",
   "metadata": {},
   "source": [
    "**Once you have identified all the principal components, you can reduce the dimensionality of the dataset down to d dimensions** by projecting it onto the hyperplane defined by the first d principal components. Selecting this hyperplane ensures that the projection will preserve as much variance as possible.\n",
    "\n",
    "\n",
    "To **<font color='blue'>project the dataset</font>** onto the hyperplane and obtain a reduced dataset $X_{d-proj}$ of dimensionality d, compute the matrix multiplication of the dataset matrix $X$ by the matrix $W_d$, defined as the matrix containing the first d columns of $V$.\n",
    "\n",
    "$$X_{d-proj}=XW_d$$"
   ]
  },
  {
   "cell_type": "code",
   "execution_count": 7,
   "metadata": {
    "ExecuteTime": {
     "end_time": "2020-01-31T14:10:34.862430Z",
     "start_time": "2020-01-31T14:10:34.858448Z"
    }
   },
   "outputs": [
    {
     "data": {
      "text/plain": [
       "((3, 2), (60, 2))"
      ]
     },
     "execution_count": 7,
     "metadata": {},
     "output_type": "execute_result"
    }
   ],
   "source": [
    "# project to dataset onto the plane defined by the first two PCs\n",
    "W2 = Vt.T[:, :2]  # shape: (3, 2)\n",
    "X2D_using_svd = X_centered.dot(W2)  # shape: (60, 2)\n",
    "\n",
    "W2.shape, X2D_using_svd.shape"
   ]
  },
  {
   "cell_type": "markdown",
   "metadata": {},
   "source": [
    "## 3.4 Use Sklearn"
   ]
  },
  {
   "cell_type": "code",
   "execution_count": 8,
   "metadata": {
    "ExecuteTime": {
     "end_time": "2020-01-31T14:10:34.905979Z",
     "start_time": "2020-01-31T14:10:34.864054Z"
    }
   },
   "outputs": [],
   "source": [
    "from sklearn.decomposition import PCA"
   ]
  },
  {
   "cell_type": "code",
   "execution_count": 9,
   "metadata": {
    "ExecuteTime": {
     "end_time": "2020-01-31T14:10:34.911621Z",
     "start_time": "2020-01-31T14:10:34.907849Z"
    }
   },
   "outputs": [],
   "source": [
    "pca = PCA(n_components=2,\n",
    "          copy=True,  # default, If `False`, data passed to fit are overwritten\n",
    "          whiten=False,  # default\n",
    "          svd_solver='auto')  # default\n",
    "# `PCA` takes care of mean centering.\n",
    "X2D = pca.fit_transform(X)"
   ]
  },
  {
   "cell_type": "code",
   "execution_count": 10,
   "metadata": {
    "ExecuteTime": {
     "end_time": "2020-01-31T14:10:34.918950Z",
     "start_time": "2020-01-31T14:10:34.913806Z"
    }
   },
   "outputs": [
    {
     "data": {
      "text/plain": [
       "array([[ 1.26203346,  0.42067648],\n",
       "       [-0.08001485, -0.35272239],\n",
       "       [ 1.17545763,  0.36085729],\n",
       "       [ 0.89305601, -0.30862856],\n",
       "       [ 0.73016287, -0.25404049]])"
      ]
     },
     "execution_count": 10,
     "metadata": {},
     "output_type": "execute_result"
    }
   ],
   "source": [
    "X2D[:5]"
   ]
  },
  {
   "cell_type": "code",
   "execution_count": 11,
   "metadata": {
    "ExecuteTime": {
     "end_time": "2020-01-31T14:10:34.925736Z",
     "start_time": "2020-01-31T14:10:34.921141Z"
    }
   },
   "outputs": [
    {
     "data": {
      "text/plain": [
       "array([[-1.26203346, -0.42067648],\n",
       "       [ 0.08001485,  0.35272239],\n",
       "       [-1.17545763, -0.36085729],\n",
       "       [-0.89305601,  0.30862856],\n",
       "       [-0.73016287,  0.25404049]])"
      ]
     },
     "execution_count": 11,
     "metadata": {},
     "output_type": "execute_result"
    }
   ],
   "source": [
    "X2D_using_svd[:5]"
   ]
  },
  {
   "cell_type": "markdown",
   "metadata": {},
   "source": [
    "**<font color='blue'>Notice that running PCA multiple times on slightly different datasets may result in different results. In general the only difference is that some axes may be flipped (翻转).</font>** Here, PCA using sklearn gives the same projection as the one given by the SVD approach, except both axes are flipped."
   ]
  },
  {
   "cell_type": "code",
   "execution_count": 12,
   "metadata": {
    "ExecuteTime": {
     "end_time": "2020-01-31T14:10:34.931595Z",
     "start_time": "2020-01-31T14:10:34.927479Z"
    }
   },
   "outputs": [
    {
     "data": {
      "text/plain": [
       "True"
      ]
     },
     "execution_count": 12,
     "metadata": {},
     "output_type": "execute_result"
    }
   ],
   "source": [
    "np.allclose(X2D, -X2D_using_svd)"
   ]
  },
  {
   "cell_type": "code",
   "execution_count": 13,
   "metadata": {
    "ExecuteTime": {
     "end_time": "2020-01-31T14:10:34.936987Z",
     "start_time": "2020-01-31T14:10:34.933380Z"
    }
   },
   "outputs": [
    {
     "data": {
      "text/plain": [
       "array([[-0.93636116, -0.29854881, -0.18465208],\n",
       "       [ 0.34027485, -0.90119108, -0.2684542 ]])"
      ]
     },
     "execution_count": 13,
     "metadata": {},
     "output_type": "execute_result"
    }
   ],
   "source": [
    "# Principal axes in feature space, representing the directions of maximum variance in the data.\n",
    "# The components are sorted by `explained_variance_`.\n",
    "pca.components_"
   ]
  },
  {
   "cell_type": "code",
   "execution_count": 14,
   "metadata": {
    "ExecuteTime": {
     "end_time": "2020-01-31T14:10:34.942949Z",
     "start_time": "2020-01-31T14:10:34.938928Z"
    }
   },
   "outputs": [
    {
     "data": {
      "text/plain": [
       "array([[ 0.93636116,  0.29854881,  0.18465208],\n",
       "       [-0.34027485,  0.90119108,  0.2684542 ]])"
      ]
     },
     "execution_count": 14,
     "metadata": {},
     "output_type": "execute_result"
    }
   ],
   "source": [
    "Vt[:2]"
   ]
  },
  {
   "cell_type": "markdown",
   "metadata": {},
   "source": [
    "## 3.5 Explained variance ratio"
   ]
  },
  {
   "cell_type": "markdown",
   "metadata": {},
   "source": [
    "**<font color='crimson'>The ratio indicates the proportion of the dataset’s variance that lies along each principal component.</font>**"
   ]
  },
  {
   "cell_type": "code",
   "execution_count": 15,
   "metadata": {
    "ExecuteTime": {
     "end_time": "2020-01-31T14:10:34.948046Z",
     "start_time": "2020-01-31T14:10:34.944713Z"
    }
   },
   "outputs": [
    {
     "data": {
      "text/plain": [
       "array([0.77830975, 0.1351726 ])"
      ]
     },
     "execution_count": 15,
     "metadata": {},
     "output_type": "execute_result"
    }
   ],
   "source": [
    "# The amount of variance explained by each of the selected components.\n",
    "pca.explained_variance_"
   ]
  },
  {
   "cell_type": "code",
   "execution_count": 16,
   "metadata": {
    "ExecuteTime": {
     "end_time": "2020-01-31T14:10:34.952897Z",
     "start_time": "2020-01-31T14:10:34.949674Z"
    }
   },
   "outputs": [
    {
     "data": {
      "text/plain": [
       "array([0.84248607, 0.14631839])"
      ]
     },
     "execution_count": 16,
     "metadata": {},
     "output_type": "execute_result"
    }
   ],
   "source": [
    "# Percentage of variance explained by each of the selected components.\n",
    "pca.explained_variance_ratio_"
   ]
  },
  {
   "cell_type": "code",
   "execution_count": 17,
   "metadata": {
    "ExecuteTime": {
     "end_time": "2020-01-31T14:10:34.957872Z",
     "start_time": "2020-01-31T14:10:34.954538Z"
    }
   },
   "outputs": [
    {
     "data": {
      "text/plain": [
       "0.13517259643391197"
      ]
     },
     "execution_count": 17,
     "metadata": {},
     "output_type": "execute_result"
    }
   ],
   "source": [
    "0.77830975 / 0.84248607 * 0.14631839"
   ]
  },
  {
   "cell_type": "markdown",
   "metadata": {},
   "source": [
    "> This tells that 84.2% of the dataset's variance lies along the first PC, and 14.6% lies along the second PC. This leaves less than 1.2% for the third PC, so it is reasonable to assume that the third PC probably carries little information."
   ]
  },
  {
   "cell_type": "code",
   "execution_count": 18,
   "metadata": {
    "ExecuteTime": {
     "end_time": "2020-01-31T14:10:34.963078Z",
     "start_time": "2020-01-31T14:10:34.959554Z"
    }
   },
   "outputs": [
    {
     "data": {
      "text/plain": [
       "False"
      ]
     },
     "execution_count": 18,
     "metadata": {},
     "output_type": "execute_result"
    }
   ],
   "source": [
    "# This was loss of info during projection\n",
    "X_inversed = pca.inverse_transform(X2D)\n",
    "np.allclose(X, X_inversed)"
   ]
  },
  {
   "cell_type": "markdown",
   "metadata": {},
   "source": [
    "## 3.6 Choose the right number of dimensions"
   ]
  },
  {
   "cell_type": "markdown",
   "metadata": {},
   "source": [
    "**Instead of arbitrarily choosing the number of dimensions to reduce down to, it is simpler to choose the number of dimensions that add up to a sufficiently large portion of the variance (e.g., 95%)**. Unless you are reducing dimensionality for data visualization."
   ]
  },
  {
   "cell_type": "markdown",
   "metadata": {},
   "source": [
    "+ **<font color='green'>Way 1:</font>**"
   ]
  },
  {
   "cell_type": "code",
   "execution_count": 19,
   "metadata": {
    "ExecuteTime": {
     "end_time": "2020-01-31T14:10:34.969389Z",
     "start_time": "2020-01-31T14:10:34.964669Z"
    }
   },
   "outputs": [
    {
     "data": {
      "text/plain": [
       "PCA(copy=True, iterated_power='auto', n_components=None, random_state=None,\n",
       "    svd_solver='auto', tol=0.0, whiten=False)"
      ]
     },
     "execution_count": 19,
     "metadata": {},
     "output_type": "execute_result"
    }
   ],
   "source": [
    "pca = PCA()\n",
    "pca.fit(X)"
   ]
  },
  {
   "cell_type": "code",
   "execution_count": 20,
   "metadata": {
    "ExecuteTime": {
     "end_time": "2020-01-31T14:10:34.975770Z",
     "start_time": "2020-01-31T14:10:34.971017Z"
    }
   },
   "outputs": [
    {
     "data": {
      "text/plain": [
       "array([0.84248607, 0.14631839, 0.01119554])"
      ]
     },
     "execution_count": 20,
     "metadata": {},
     "output_type": "execute_result"
    }
   ],
   "source": [
    "pca.explained_variance_ratio_"
   ]
  },
  {
   "cell_type": "code",
   "execution_count": 21,
   "metadata": {
    "ExecuteTime": {
     "end_time": "2020-01-31T14:10:34.983501Z",
     "start_time": "2020-01-31T14:10:34.978479Z"
    }
   },
   "outputs": [
    {
     "data": {
      "text/plain": [
       "array([0.84248607, 0.98880446, 1.        ])"
      ]
     },
     "execution_count": 21,
     "metadata": {},
     "output_type": "execute_result"
    }
   ],
   "source": [
    "np.cumsum(pca.explained_variance_ratio_)"
   ]
  },
  {
   "cell_type": "code",
   "execution_count": 22,
   "metadata": {
    "ExecuteTime": {
     "end_time": "2020-01-31T14:10:34.989947Z",
     "start_time": "2020-01-31T14:10:34.985452Z"
    }
   },
   "outputs": [
    {
     "data": {
      "text/plain": [
       "2"
      ]
     },
     "execution_count": 22,
     "metadata": {},
     "output_type": "execute_result"
    }
   ],
   "source": [
    "# preserve 96% of the dataset's variance\n",
    "cumsum = np.cumsum(pca.explained_variance_ratio_)\n",
    "d = np.argmax(cumsum >= 0.95)+1\n",
    "d"
   ]
  },
  {
   "cell_type": "markdown",
   "metadata": {
    "ExecuteTime": {
     "end_time": "2020-01-30T06:54:52.201722Z",
     "start_time": "2020-01-30T06:54:52.198328Z"
    }
   },
   "source": [
    "+ **<font color='green'>Way 2:</font>**"
   ]
  },
  {
   "cell_type": "markdown",
   "metadata": {},
   "source": [
    "**You can set `n_components` to be a float between 0.0 and 1.0, indicating the ratio of variance you wish to preserve.**"
   ]
  },
  {
   "cell_type": "code",
   "execution_count": 23,
   "metadata": {
    "ExecuteTime": {
     "end_time": "2020-01-31T14:10:35.002233Z",
     "start_time": "2020-01-31T14:10:34.997042Z"
    }
   },
   "outputs": [
    {
     "data": {
      "text/plain": [
       "PCA(copy=True, iterated_power='auto', n_components=0.95, random_state=None,\n",
       "    svd_solver='auto', tol=0.0, whiten=False)"
      ]
     },
     "execution_count": 23,
     "metadata": {},
     "output_type": "execute_result"
    }
   ],
   "source": [
    "pca = PCA(n_components=0.95)\n",
    "pca.fit(X)"
   ]
  },
  {
   "cell_type": "code",
   "execution_count": 24,
   "metadata": {
    "ExecuteTime": {
     "end_time": "2020-01-31T14:10:35.011508Z",
     "start_time": "2020-01-31T14:10:35.007248Z"
    }
   },
   "outputs": [
    {
     "data": {
      "text/plain": [
       "array([[-0.93636116, -0.29854881, -0.18465208],\n",
       "       [ 0.34027485, -0.90119108, -0.2684542 ]])"
      ]
     },
     "execution_count": 24,
     "metadata": {},
     "output_type": "execute_result"
    }
   ],
   "source": [
    "pca.components_"
   ]
  },
  {
   "cell_type": "code",
   "execution_count": 25,
   "metadata": {
    "ExecuteTime": {
     "end_time": "2020-01-31T14:10:35.017431Z",
     "start_time": "2020-01-31T14:10:35.013451Z"
    },
    "scrolled": true
   },
   "outputs": [
    {
     "data": {
      "text/plain": [
       "array([[ 1.26203346,  0.42067648],\n",
       "       [-0.08001485, -0.35272239],\n",
       "       [ 1.17545763,  0.36085729],\n",
       "       [ 0.89305601, -0.30862856],\n",
       "       [ 0.73016287, -0.25404049]])"
      ]
     },
     "execution_count": 25,
     "metadata": {},
     "output_type": "execute_result"
    }
   ],
   "source": [
    "X_reduced = pca.transform(X)\n",
    "X_reduced[:5]"
   ]
  },
  {
   "cell_type": "code",
   "execution_count": 26,
   "metadata": {
    "ExecuteTime": {
     "end_time": "2020-01-31T14:10:35.023819Z",
     "start_time": "2020-01-31T14:10:35.019208Z"
    }
   },
   "outputs": [
    {
     "data": {
      "text/plain": [
       "array([[ 1.26203346,  0.42067648],\n",
       "       [-0.08001485, -0.35272239],\n",
       "       [ 1.17545763,  0.36085729],\n",
       "       [ 0.89305601, -0.30862856],\n",
       "       [ 0.73016287, -0.25404049]])"
      ]
     },
     "execution_count": 26,
     "metadata": {},
     "output_type": "execute_result"
    }
   ],
   "source": [
    "X_centered.dot(pca.components_.T)[:5]"
   ]
  },
  {
   "cell_type": "markdown",
   "metadata": {},
   "source": [
    "+ **<font color='green'>Way 3:</font>**"
   ]
  },
  {
   "cell_type": "markdown",
   "metadata": {},
   "source": [
    "**Plot the explained variance as a function of the number of the number of dimensions.** There will usually be an elbow in the curve, where the explained variance stops growing fast."
   ]
  },
  {
   "cell_type": "markdown",
   "metadata": {},
   "source": [
    "## 3.7 PCA for compression"
   ]
  },
  {
   "cell_type": "markdown",
   "metadata": {},
   "source": [
    "After dimensionality reduction, the dataset takes up much less space."
   ]
  },
  {
   "cell_type": "code",
   "execution_count": 27,
   "metadata": {
    "ExecuteTime": {
     "end_time": "2020-01-31T14:10:35.051400Z",
     "start_time": "2020-01-31T14:10:35.025607Z"
    }
   },
   "outputs": [],
   "source": [
    "from sklearn.datasets import fetch_openml"
   ]
  },
  {
   "cell_type": "code",
   "execution_count": 28,
   "metadata": {
    "ExecuteTime": {
     "end_time": "2020-01-31T14:10:53.228363Z",
     "start_time": "2020-01-31T14:10:35.053058Z"
    }
   },
   "outputs": [],
   "source": [
    "mnist = fetch_openml('mnist_784', version=1)\n",
    "x = mnist['data']\n",
    "y = mnist['target']\n",
    "\n",
    "y = y.astype(np.int8)\n",
    "x_train, x_test, y_train, y_test = x[:60000], x[60000:], y[:60000], y[60000:]"
   ]
  },
  {
   "cell_type": "code",
   "execution_count": 29,
   "metadata": {
    "ExecuteTime": {
     "end_time": "2020-01-31T14:10:58.820700Z",
     "start_time": "2020-01-31T14:10:53.230288Z"
    }
   },
   "outputs": [
    {
     "data": {
      "text/plain": [
       "154"
      ]
     },
     "execution_count": 29,
     "metadata": {},
     "output_type": "execute_result"
    }
   ],
   "source": [
    "# apply PCA to MNIST while preserve 95% of its variance\n",
    "pca = PCA()\n",
    "pca.fit(x_train)\n",
    "cumsum = np.cumsum(pca.explained_variance_ratio_)\n",
    "d = np.argmax(cumsum >= 0.95) + 1\n",
    "d"
   ]
  },
  {
   "cell_type": "code",
   "execution_count": 30,
   "metadata": {
    "ExecuteTime": {
     "end_time": "2020-01-31T14:10:59.059721Z",
     "start_time": "2020-01-31T14:10:58.822545Z"
    }
   },
   "outputs": [
    {
     "data": {
      "image/png": "[encoded data removed]",
      "text/plain": [
       "<Figure size 432x288 with 1 Axes>"
      ]
     },
     "metadata": {
      "needs_background": "light"
     },
     "output_type": "display_data"
    }
   ],
   "source": [
    "plt.figure(figsize=(6,4))\n",
    "plt.plot(cumsum, linewidth=3)\n",
    "plt.axis([0, 400, 0, 1])\n",
    "plt.xlabel(\"Dimensions\")\n",
    "plt.ylabel(\"Explained Variance\")\n",
    "plt.plot([d, d], [0, 0.95], 'k:')\n",
    "plt.plot([0, d], [0.95, 0.95], 'k:')\n",
    "plt.plot(d, 0.95, 'ko')\n",
    "plt.annotate('Elbow', xy=(65, 0.85), xytext=(70, 0.7),\n",
    "             arrowprops=dict(arrowstyle='->'), fontsize=16)\n",
    "plt.grid(True)\n",
    "plt.show()"
   ]
  },
  {
   "cell_type": "markdown",
   "metadata": {},
   "source": [
    "> Each instance only have 254 features, the dataset is now less than 20% of its original size. This is a reasonable compression ratio, and you can see how this size reduction can speed up a classification algorithm tremendously."
   ]
  },
  {
   "cell_type": "markdown",
   "metadata": {},
   "source": [
    "It's also **possible to decompress the reduced dataset back** to 784 dimensions, but this **won't give you back the original data**, since **the projection lost a bit of information** (within the 5% variance that was dropped), but it will likely be close to the original data.\n",
    "\n",
    "$$X_{recovered}=X_{d-proj}W_d^T$$\n",
    "\n",
    "The mean squared distance between the original data and the reconstructed data (compressed and then decompressed) is called the **<font color='red'>reconstruction error</font>**."
   ]
  },
  {
   "cell_type": "code",
   "execution_count": 31,
   "metadata": {
    "ExecuteTime": {
     "end_time": "2020-01-31T14:11:05.310935Z",
     "start_time": "2020-01-31T14:10:59.061516Z"
    }
   },
   "outputs": [
    {
     "data": {
      "text/plain": [
       "154"
      ]
     },
     "execution_count": 31,
     "metadata": {},
     "output_type": "execute_result"
    }
   ],
   "source": [
    "pca = PCA(n_components=0.95)\n",
    "pca.fit(x_train)\n",
    "x_train_reduced = pca.transform(x_train)\n",
    "x_train_reduced.shape[1]"
   ]
  },
  {
   "cell_type": "code",
   "execution_count": 32,
   "metadata": {
    "ExecuteTime": {
     "end_time": "2020-01-31T14:11:05.865030Z",
     "start_time": "2020-01-31T14:11:05.313485Z"
    }
   },
   "outputs": [],
   "source": [
    "x_train_recovered = pca.inverse_transform(x_train_reduced)"
   ]
  },
  {
   "cell_type": "code",
   "execution_count": 33,
   "metadata": {
    "ExecuteTime": {
     "end_time": "2020-01-31T14:11:06.667250Z",
     "start_time": "2020-01-31T14:11:05.867012Z"
    }
   },
   "outputs": [
    {
     "data": {
      "text/plain": [
       "False"
      ]
     },
     "execution_count": 33,
     "metadata": {},
     "output_type": "execute_result"
    }
   ],
   "source": [
    "np.allclose(x_train, x_train_recovered)"
   ]
  },
  {
   "cell_type": "code",
   "execution_count": 47,
   "metadata": {
    "ExecuteTime": {
     "end_time": "2020-01-31T14:19:25.631679Z",
     "start_time": "2020-01-31T14:19:25.629079Z"
    }
   },
   "outputs": [],
   "source": [
    "from sklearn.metrics import mean_absolute_error"
   ]
  },
  {
   "cell_type": "code",
   "execution_count": 48,
   "metadata": {
    "ExecuteTime": {
     "end_time": "2020-01-31T14:19:37.918375Z",
     "start_time": "2020-01-31T14:19:37.313115Z"
    }
   },
   "outputs": [
    {
     "data": {
      "text/plain": [
       "7.975784510726733"
      ]
     },
     "execution_count": 48,
     "metadata": {},
     "output_type": "execute_result"
    }
   ],
   "source": [
    "mean_absolute_error(x_train, x_train_recovered)"
   ]
  },
  {
   "cell_type": "code",
   "execution_count": 35,
   "metadata": {
    "ExecuteTime": {
     "end_time": "2020-01-31T14:11:07.227373Z",
     "start_time": "2020-01-31T14:11:07.224319Z"
    }
   },
   "outputs": [],
   "source": [
    "def plot_digit(data):\n",
    "    image = data.reshape(28, 28)\n",
    "    plt.imshow(image, cmap=mpl.cm.binary, interpolation='nearest')\n",
    "    plt.axis('off')"
   ]
  },
  {
   "cell_type": "code",
   "execution_count": 36,
   "metadata": {
    "ExecuteTime": {
     "end_time": "2020-01-31T14:11:07.394140Z",
     "start_time": "2020-01-31T14:11:07.229241Z"
    }
   },
   "outputs": [
    {
     "data": {
      "image/png": "[encoded data removed]",
      "text/plain": [
       "<Figure size 720x345.6 with 2 Axes>"
      ]
     },
     "metadata": {
      "needs_background": "light"
     },
     "output_type": "display_data"
    }
   ],
   "source": [
    "plt.figure(figsize=(10, 4.8))\n",
    "plt.subplot(121)\n",
    "plot_digit(x_train[0])\n",
    "plt.title('Original')\n",
    "plt.subplot(122)\n",
    "plot_digit(x_train_recovered[0])\n",
    "plt.title('Compressed')\n",
    "plt.show()"
   ]
  },
  {
   "cell_type": "markdown",
   "metadata": {},
   "source": [
    "## 3.8 Randomized PCA"
   ]
  },
  {
   "cell_type": "markdown",
   "metadata": {},
   "source": [
    "If you use `PCA(svd_solver='randomized')`, sklearn uses a stochastic algorithm called **<font color='crimson'>Randomized PCA</font>** that **quickly finds an approximation of the first d principal components**. Its computational complexity is $O(m\\times d^2)+O(d^3)$, instead of $O(m\\times n^2)+O(n^3)$ for the full SVD approach, so it is dramatically **faster** than full SVD when d is much smaller than n."
   ]
  },
  {
   "cell_type": "code",
   "execution_count": 37,
   "metadata": {
    "ExecuteTime": {
     "end_time": "2020-01-31T14:11:11.597979Z",
     "start_time": "2020-01-31T14:11:07.395845Z"
    },
    "scrolled": true
   },
   "outputs": [],
   "source": [
    "# n_components must be between 1 and min(n_samples, n_features)\n",
    "rnd_pca = PCA(n_components=154, svd_solver='randomized', random_state=42)\n",
    "x_reduced_rnd = rnd_pca.fit_transform(x_train)"
   ]
  },
  {
   "cell_type": "markdown",
   "metadata": {},
   "source": [
    "**By default, `PCA()` argument `svd_solver` is actually set to 'auto'**: it automatically uses the randomized PCA algorithm if m or n is greater than 500 and d is less than 80% of m or n, or else it uses the full SVD approach. If you want to force Scikit-Learn to use full SVD, you can set the `svd_solver` hyperparameter to `'full'`."
   ]
  },
  {
   "cell_type": "markdown",
   "metadata": {},
   "source": [
    "## 3.9 Incremental PCA"
   ]
  },
  {
   "cell_type": "markdown",
   "metadata": {},
   "source": [
    "The above implementations of PCA require the whole dataset set to fit in memory in order for the algorithm to run.\n",
    "\n",
    "**<font color='crimson'>Incremental PCA (IPCA)</font>** allow you to split the dataset into mini-batches and feed an IPCA algorithm one mini-batch at a time.\n",
    "\n",
    "\n",
    "+ useful for large dataset\n",
    "\n",
    "\n",
    "+ useful for applying PCA online (i.e., on the fly, as new instance arrive)"
   ]
  },
  {
   "cell_type": "code",
   "execution_count": 38,
   "metadata": {
    "ExecuteTime": {
     "end_time": "2020-01-31T14:11:11.601895Z",
     "start_time": "2020-01-31T14:11:11.599589Z"
    }
   },
   "outputs": [],
   "source": [
    "from sklearn.decomposition import IncrementalPCA"
   ]
  },
  {
   "cell_type": "markdown",
   "metadata": {},
   "source": [
    "+ **<font color='green'>way 1:</font>**"
   ]
  },
  {
   "cell_type": "code",
   "execution_count": 39,
   "metadata": {
    "ExecuteTime": {
     "end_time": "2020-01-31T14:11:24.589166Z",
     "start_time": "2020-01-31T14:11:11.603469Z"
    }
   },
   "outputs": [],
   "source": [
    "# split the dataset into 100 mini-batches\n",
    "n_batches = 100\n",
    "data_batches = np.array_split(x_train, n_batches)\n",
    "\n",
    "inc_pca = IncrementalPCA(n_components=154)\n",
    "for x_batch in data_batches:\n",
    "    # must call the `partial_fit()` with each mini-batch\n",
    "    inc_pca.partial_fit(x_batch)\n",
    "\n",
    "x_reduced_inc = inc_pca.transform(x_train)"
   ]
  },
  {
   "cell_type": "markdown",
   "metadata": {},
   "source": [
    "+ **<font color='green'>way 2:</font>**"
   ]
  },
  {
   "cell_type": "code",
   "execution_count": 40,
   "metadata": {
    "ExecuteTime": {
     "end_time": "2020-01-31T14:11:24.793060Z",
     "start_time": "2020-01-31T14:11:24.591196Z"
    }
   },
   "outputs": [],
   "source": [
    "# first: create the `memmap()` structure and copy the MNIST data into it\n",
    "filename = \"./datasets/my_mnist.data\"\n",
    "m, n = x_train.shape\n",
    "\n",
    "x_mm = np.memmap(filename,\n",
    "                 dtype='float32',\n",
    "                 mode='write',\n",
    "                 shape=(m, n))\n",
    "x_mm[:] = x_train"
   ]
  },
  {
   "cell_type": "markdown",
   "metadata": {},
   "source": [
    "> **`np.memmap`** class allows to manipulate a large array stored in a binary file on disk as if it were entirely in memory; the class loads only the data it needs in memory, when it needs it."
   ]
  },
  {
   "cell_type": "code",
   "execution_count": 41,
   "metadata": {
    "ExecuteTime": {
     "end_time": "2020-01-31T14:11:24.851298Z",
     "start_time": "2020-01-31T14:11:24.795327Z"
    }
   },
   "outputs": [],
   "source": [
    "# delete the `memmap()` object will trigger its Python finalizer,\n",
    "# which ensures that the data is saved to disk.\n",
    "del x_mm"
   ]
  },
  {
   "cell_type": "markdown",
   "metadata": {},
   "source": [
    "Since the `IncrementalPCA` class uses only a small part of the array at any given time, the memory usage remains under control. This makes it possible to call the usual `fit()` method."
   ]
  },
  {
   "cell_type": "code",
   "execution_count": 42,
   "metadata": {
    "ExecuteTime": {
     "end_time": "2020-01-31T14:11:38.151180Z",
     "start_time": "2020-01-31T14:11:24.852908Z"
    }
   },
   "outputs": [
    {
     "data": {
      "text/plain": [
       "IncrementalPCA(batch_size=600, copy=True, n_components=154, whiten=False)"
      ]
     },
     "execution_count": 42,
     "metadata": {},
     "output_type": "execute_result"
    }
   ],
   "source": [
    "# second: load the data and use it for training\n",
    "n_batches = 100\n",
    "x_mm = np.memmap(filename, dtype='float32', mode='readonly', shape=(m, n))\n",
    "\n",
    "batch_size = m // n_batches\n",
    "\n",
    "# The number of samples to use for each batch.\n",
    "inc_pca = IncrementalPCA(n_components=154, batch_size=batch_size)\n",
    "inc_pca.fit(x_mm)"
   ]
  },
  {
   "cell_type": "markdown",
   "metadata": {},
   "source": [
    "## 3.10 Time complexity"
   ]
  },
  {
   "cell_type": "markdown",
   "metadata": {},
   "source": [
    "**Time regular PCA against Incremental PCA and Randomized PCA, for various number of principal components:**"
   ]
  },
  {
   "cell_type": "code",
   "execution_count": 43,
   "metadata": {
    "ExecuteTime": {
     "end_time": "2020-01-31T14:12:26.716202Z",
     "start_time": "2020-01-31T14:11:38.152992Z"
    }
   },
   "outputs": [
    {
     "name": "stdout",
     "output_type": "stream",
     "text": [
      "n_components = 2\n",
      "    PCA: 1.6 seconds\n",
      "    IncrementalPCA: 10.5 seconds\n",
      "    PCA: 1.7 seconds\n",
      "n_components = 10\n",
      "    PCA: 1.7 seconds\n",
      "    IncrementalPCA: 9.9 seconds\n",
      "    PCA: 1.7 seconds\n",
      "n_components = 154\n",
      "    PCA: 3.8 seconds\n",
      "    IncrementalPCA: 13.7 seconds\n",
      "    PCA: 3.9 seconds\n"
     ]
    }
   ],
   "source": [
    "for n_components in (2, 10, 154):\n",
    "    print(\"n_components =\", n_components)\n",
    "    regular_pca = PCA(n_components=n_components)\n",
    "    inc_pca = IncrementalPCA(n_components=n_components, batch_size=500)\n",
    "    rnd_pca = PCA(n_components=n_components, svd_solver='randomized', random_state=42)\n",
    "\n",
    "    for pca in (regular_pca, inc_pca, rnd_pca):\n",
    "        t1 = time.time()\n",
    "        pca.fit(x_train)\n",
    "        t2 = time.time()\n",
    "        print(\"    {}: {:.1f} seconds\".format(pca.__class__.__name__, t2 - t1))"
   ]
  },
  {
   "cell_type": "markdown",
   "metadata": {},
   "source": [
    "**Compare PCA and Randomized PCA for datasets of different sizes (number of instances):**"
   ]
  },
  {
   "cell_type": "code",
   "execution_count": 44,
   "metadata": {
    "ExecuteTime": {
     "end_time": "2020-01-31T14:12:28.415904Z",
     "start_time": "2020-01-31T14:12:26.718025Z"
    }
   },
   "outputs": [
    {
     "data": {
      "image/png": "[encoded data removed]",
      "text/plain": [
       "<Figure size 576x374.4 with 1 Axes>"
      ]
     },
     "metadata": {
      "needs_background": "light"
     },
     "output_type": "display_data"
    }
   ],
   "source": [
    "times_rpca = []\n",
    "times_pca = []\n",
    "sizes = [1000, 10000, 20000, 30000, 40000, 50000, 70000, 100000,\n",
    "         200000, 500000]\n",
    "for n_samples in sizes:\n",
    "    x = np.random.randn(n_samples, 5)\n",
    "    pca = PCA(n_components=2, svd_solver='randomized', random_state=42)\n",
    "    t1 = time.time()\n",
    "    pca.fit(x)\n",
    "    t2 = time.time()\n",
    "    times_rpca.append(t2 - t1)\n",
    "    pca = PCA(n_components=2)\n",
    "    t1 = time.time()\n",
    "    pca.fit(x)\n",
    "    t2 = time.time()\n",
    "    times_pca.append(t2 - t1)\n",
    "\n",
    "plt.figure(figsize=(8, 5.2))\n",
    "plt.plot(sizes, times_rpca, 'b-o', label='Randomize PCA')\n",
    "plt.plot(sizes, times_pca, 'r-s', label='PCA')\n",
    "plt.xlabel(\"n_samples\")\n",
    "plt.ylabel(\"Training time\")\n",
    "plt.legend(loc=\"upper left\", fontsize=16, shadow=True)\n",
    "plt.title(\"PCA and Randomized PCA time complexity\")\n",
    "plt.show()"
   ]
  },
  {
   "cell_type": "markdown",
   "metadata": {},
   "source": [
    "**Compare their performance on datasets of 2,000 instances with various numbers of features:**"
   ]
  },
  {
   "cell_type": "code",
   "execution_count": 46,
   "metadata": {
    "ExecuteTime": {
     "end_time": "2020-01-31T14:16:26.305490Z",
     "start_time": "2020-01-31T14:16:22.137716Z"
    }
   },
   "outputs": [
    {
     "data": {
      "image/png": "[encoded data removed]",
      "text/plain": [
       "<Figure size 576x374.4 with 1 Axes>"
      ]
     },
     "metadata": {
      "needs_background": "light"
     },
     "output_type": "display_data"
    }
   ],
   "source": [
    "times_rpca = []\n",
    "times_pca = []\n",
    "sizes = [1000, 2000, 3000, 4000, 5000, 6000]\n",
    "for n_features in sizes:\n",
    "    X = np.random.randn(2000, n_features)\n",
    "    pca = PCA(n_components = 2, svd_solver='randomized', random_state=42)\n",
    "    t1 = time.time()\n",
    "    pca.fit(X)\n",
    "    t2 = time.time()\n",
    "    times_rpca.append(t2 - t1)\n",
    "    pca = PCA(n_components = 2)\n",
    "    t1 = time.time()\n",
    "    pca.fit(X)\n",
    "    t2 = time.time()\n",
    "    times_pca.append(t2 - t1)\n",
    "\n",
    "plt.figure(figsize=(8, 5.2))\n",
    "plt.plot(sizes, times_rpca, 'b-o', label='Randomize PCA')\n",
    "plt.plot(sizes, times_pca, 'r-s', label='PCA')\n",
    "plt.xlabel(\"n_features\")\n",
    "plt.ylabel(\"Training time\")\n",
    "plt.legend(loc=\"upper left\", fontsize=16, shadow=True)\n",
    "plt.title(\"PCA and Randomized PCA time complexity\")\n",
    "plt.show()"
   ]
  },
  {
   "cell_type": "markdown",
   "metadata": {},
   "source": [
    "# 4. Kernel PCA"
   ]
  },
  {
   "cell_type": "code",
   "execution_count": null,
   "metadata": {},
   "outputs": [],
   "source": []
  }
 ],
 "metadata": {
  "kernelspec": {
   "display_name": "Python 3",
   "language": "python",
   "name": "python3"
  },
  "language_info": {
   "codemirror_mode": {
    "name": "ipython",
    "version": 3
   },
   "file_extension": ".py",
   "mimetype": "text/x-python",
   "name": "python",
   "nbconvert_exporter": "python",
   "pygments_lexer": "ipython3",
   "version": "3.6.9"
  },
  "toc": {
   "base_numbering": 1,
   "nav_menu": {},
   "number_sections": true,
   "sideBar": true,
   "skip_h1_title": false,
   "title_cell": "Table of Contents",
   "title_sidebar": "Contents",
   "toc_cell": false,
   "toc_position": {},
   "toc_section_display": true,
   "toc_window_display": false
  },
  "varInspector": {
   "cols": {
    "lenName": 16,
    "lenType": 16,
    "lenVar": 40
   },
   "kernels_config": {
    "python": {
     "delete_cmd_postfix": "",
     "delete_cmd_prefix": "del ",
     "library": "var_list.py",
     "varRefreshCmd": "print(var_dic_list())"
    },
    "r": {
     "delete_cmd_postfix": ") ",
     "delete_cmd_prefix": "rm(",
     "library": "var_list.r",
     "varRefreshCmd": "cat(var_dic_list()) "
    }
   },
   "types_to_exclude": [
    "module",
    "function",
    "builtin_function_or_method",
    "instance",
    "_Feature"
   ],
   "window_display": false
  }
 },
 "nbformat": 4,
 "nbformat_minor": 2
}
