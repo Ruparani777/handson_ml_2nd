{
 "cells": [
  {
   "cell_type": "markdown",
   "metadata": {
    "toc": true
   },
   "source": [
    "<h1>Table of Contents<span class=\"tocSkip\"></span></h1>\n",
    "<div class=\"toc\"><ul class=\"toc-item\"><li><span><a href=\"#1.-线性回归（Linear-Regression）\" data-toc-modified-id=\"1.-线性回归（Linear-Regression）-1\">1. 线性回归（Linear Regression）</a></span><ul class=\"toc-item\"><li><span><a href=\"#1.1-标准方程（The-Normal-Equation）\" data-toc-modified-id=\"1.1-标准方程（The-Normal-Equation）-1.1\">1.1 标准方程（The Normal Equation）</a></span></li></ul></li></ul></div>"
   ]
  },
  {
   "cell_type": "code",
   "execution_count": null,
   "metadata": {
    "ExecuteTime": {
     "start_time": "2021-03-20T02:47:02.062Z"
    }
   },
   "outputs": [],
   "source": [
    "# Common imports\n",
    "import os\n",
    "import sys\n",
    "import warnings\n",
    "\n",
    "import matplotlib.pyplot as plt\n",
    "import numpy as np\n",
    "import pandas as pd\n",
    "import scipy\n",
    "import sklearn\n",
    "\n",
    "\n",
    "%matplotlib inline\n",
    "plt.rcParams['axes.labelsize'] = 14\n",
    "plt.rcParams['xtick.labelsize'] = 14\n",
    "plt.rcParams['ytick.labelsize'] = 14\n",
    "\n",
    "np.random.seed(42)\n",
    "# warnings.filterwarnings(action='ignore', message=\"^internal gelsd\")\n",
    "\n",
    "print('Version of Python:', sys.version)\n",
    "print('Version of pandas:', pd.__version__)\n",
    "print('Version of Scikit-Learn:', sklearn.__version__)"
   ]
  },
  {
   "cell_type": "markdown",
   "metadata": {},
   "source": [
    "# 1. 线性回归（Linear Regression）"
   ]
  },
  {
   "cell_type": "markdown",
   "metadata": {},
   "source": [
    "**<font color='blue'>线性模型</font>** 通过对输入特征加权求和（weighted sum），再加上一个称为偏置项（bias term）的常量（也称为截距项（intercept term）来做预测，公式如下：\n",
    "\n",
    "$$\\hat{y}=\\theta_0 + \\theta_1 x_1 + \\theta_2 x_2 + \\cdots + \\theta_n x_n$$\n",
    "\n",
    "其中，\n",
    "\n",
    "- $\\hat{y}$ 是预测值\n",
    "\n",
    "- $n$ 是特征数量\n",
    "\n",
    "- $x_i$ 是第 i 个特征值\n",
    "\n",
    "- $\\theta_i$ 是第 i (0, 1, 2, ..., n) 个模型参数\n",
    "\n",
    "<br>\n",
    "\n",
    "对应的**向量化公式（vectorized form）**如下：\n",
    "\n",
    "$$\\hat{y}=h_{\\theta}(\\pmb{x})=\\pmb{\\theta} \\cdot \\pmb{x}$$\n",
    "\n",
    "其中，\n",
    "\n",
    "- $\\pmb{\\theta}$ 是模型的参数向量（parameter vector），包含偏置项（$\\theta_0$） 和特征项（$\\theta_1$ 到 $\\theta_n$）\n",
    "\n",
    "- $\\pmb{x}$ 是样本的特征向量（feature vector），包含 $x_0$ 到 $x_1$，其中 $x_0$ 始终等于 1\n",
    "\n",
    "- $\\pmb{\\theta} \\cdot \\pmb{x}$ 是向量 $\\pmb{\\theta}$ 和向量 $\\pmb{x}$ 的点积（product），其值等于 $\\theta_0 + \\theta_1 x_1 + \\theta_2 x_2 + \\cdots + \\theta_n x_n$\n",
    "\n",
    "- $h_{\\theta}(\\pmb{x})$ 是假设函数（hypothesis function），使用的的是模型参数 $\\pmb{\\theta}$\n",
    "\n",
    "<br>\n",
    "\n",
    "**<font color='crimson'>在 ML 中，向量通常表示为列向量（column vectors）——是一个单列二维数组。</font>** 如果 $\\pmb{\\theta}$ 和 $\\pmb{x}$ 是列向量，那么预测值为 $\\hat{y}=\\pmb{\\theta}^T \\pmb{x}$（$\\pmb{\\theta}$ 和 $\\pmb{x}$ 的矩阵乘积）。"
   ]
  },
  {
   "cell_type": "markdown",
   "metadata": {},
   "source": [
    "训练模型时就是设置参数直到模型最拟合训练数据。那么就需要知道如何度量模型在训练数据上的拟合程度（好还是坏）。\n",
    "\n",
    "回归任务最常用的性能指标是 RMSE (Root Mean Square Error)，即在训练过程中需要找到使 RMSE 最小的参数 $\\pmb{\\theta}$。**<font color='crimson'>在实践中，最小化 MSE 比最小化 RMSE 简单，并且两者效果相同。</font>**\n",
    "\n",
    "线性回归模型的损失函数（cost function）——MSE\n",
    "\n",
    "$$MSE(\\pmb{\\theta})=MSE(\\pmb{X}, h_{\\pmb{\\theta}})=\\frac{1}{m}\\sum^m_{i=1}{(\\pmb{\\theta}^T \\pmb{x}^i - y^i)}^2$$"
   ]
  },
  {
   "cell_type": "markdown",
   "metadata": {},
   "source": [
    "## 1.1 标准方程（The Normal Equation）"
   ]
  },
  {
   "cell_type": "markdown",
   "metadata": {},
   "source": [
    "为了使损失函数 $MSE(\\pmb{\\theta})$ 最小，有一个闭式解（closed-form）方法——通过一个数学公式直接给出结果。\n",
    "\n",
    "标准方程是\n",
    "\n",
    "$$\\hat{\\pmb{\\theta}}=({\\pmb{X}}^T {\\pmb{X}})^{-1} {\\pmb{X}}^T \\pmb{y}$$\n",
    "\n",
    "其中，\n",
    "\n",
    "- $\\hat{\\pmb{\\theta}}$ 是使损失函数最小的 $\\pmb{\\theta}$ 值\n",
    "\n",
    "- $\\pmb{y}$ 是由 $y^1$ 到 $y^m$ 组成的向量"
   ]
  },
  {
   "cell_type": "code",
   "execution_count": 2,
   "metadata": {
    "ExecuteTime": {
     "end_time": "2021-03-17T16:10:30.132657Z",
     "start_time": "2021-03-17T16:10:30.125390Z"
    }
   },
   "outputs": [
    {
     "data": {
      "text/plain": [
       "((100, 1), (100, 1))"
      ]
     },
     "execution_count": 2,
     "metadata": {},
     "output_type": "execute_result"
    }
   ],
   "source": [
    "# 随机生成数据集\n",
    "np.random.seed(42)\n",
    "\n",
    "x = 2 * np.random.rand(100, 1)\n",
    "# y = 4 + 3 * x + noise\n",
    "y = 4 + 3 * x + np.random.randn(100, 1)\n",
    "\n",
    "x.shape, y.shape"
   ]
  },
  {
   "cell_type": "code",
   "execution_count": 3,
   "metadata": {
    "ExecuteTime": {
     "end_time": "2021-03-17T16:10:30.141360Z",
     "start_time": "2021-03-17T16:10:30.137474Z"
    }
   },
   "outputs": [
    {
     "data": {
      "text/plain": [
       "array([[0.74908024],\n",
       "       [1.90142861],\n",
       "       [1.46398788],\n",
       "       [1.19731697]])"
      ]
     },
     "execution_count": 3,
     "metadata": {},
     "output_type": "execute_result"
    }
   ],
   "source": [
    "x[:4]"
   ]
  },
  {
   "cell_type": "code",
   "execution_count": 4,
   "metadata": {
    "ExecuteTime": {
     "end_time": "2021-03-17T16:10:30.151265Z",
     "start_time": "2021-03-17T16:10:30.143630Z"
    },
    "scrolled": true
   },
   "outputs": [
    {
     "data": {
      "text/plain": [
       "array([[6.33428778],\n",
       "       [9.40527849],\n",
       "       [8.48372443],\n",
       "       [5.60438199]])"
      ]
     },
     "execution_count": 4,
     "metadata": {},
     "output_type": "execute_result"
    }
   ],
   "source": [
    "y[:4]"
   ]
  },
  {
   "cell_type": "code",
   "execution_count": 5,
   "metadata": {
    "ExecuteTime": {
     "end_time": "2021-03-17T16:10:30.643463Z",
     "start_time": "2021-03-17T16:10:30.153775Z"
    },
    "scrolled": false
   },
   "outputs": [
    {
     "data": {
      "image/png": "[encoded data removed]",
      "text/plain": [
       "<Figure size 432x266.4 with 1 Axes>"
      ]
     },
     "metadata": {
      "needs_background": "light"
     },
     "output_type": "display_data"
    }
   ],
   "source": [
    "plt.figure(figsize=(6, 3.7))\n",
    "plt.plot(x, y, 'b.')\n",
    "plt.xlabel('$x_1$', fontsize=18)\n",
    "plt.ylabel('$y$', rotation=0, fontsize=18)\n",
    "plt.axis([0, 2, 0, 15])\n",
    "plt.show()"
   ]
  },
  {
   "cell_type": "markdown",
   "metadata": {},
   "source": [
    "使用标准方程来计算 $\\hat{\\pmb{\\theta}}$：\n",
    "\n",
    "- 用 `np.linalg` 中 `inv()` 函数对矩阵求逆\n",
    "\n",
    "- 用 `dot()` 方法来计算矩阵乘积"
   ]
  },
  {
   "cell_type": "code",
   "execution_count": 7,
   "metadata": {
    "ExecuteTime": {
     "end_time": "2021-03-17T16:11:19.208147Z",
     "start_time": "2021-03-17T16:11:19.200687Z"
    }
   },
   "outputs": [
    {
     "data": {
      "text/plain": [
       "(100, 2)"
      ]
     },
     "execution_count": 7,
     "metadata": {},
     "output_type": "execute_result"
    }
   ],
   "source": [
    "# 增加常数项\n",
    "x_b = np.c_[np.ones((100, 1)), x]\n",
    "\n",
    "x_b.shape"
   ]
  },
  {
   "cell_type": "code",
   "execution_count": 9,
   "metadata": {
    "ExecuteTime": {
     "end_time": "2021-03-17T16:11:29.003215Z",
     "start_time": "2021-03-17T16:11:28.998242Z"
    }
   },
   "outputs": [
    {
     "data": {
      "text/plain": [
       "array([[1.        , 0.74908024],\n",
       "       [1.        , 1.90142861],\n",
       "       [1.        , 1.46398788],\n",
       "       [1.        , 1.19731697]])"
      ]
     },
     "execution_count": 9,
     "metadata": {},
     "output_type": "execute_result"
    }
   ],
   "source": [
    "x_b[:4]"
   ]
  },
  {
   "cell_type": "code",
   "execution_count": 10,
   "metadata": {
    "ExecuteTime": {
     "end_time": "2021-03-17T16:12:20.004912Z",
     "start_time": "2021-03-17T16:12:19.998182Z"
    }
   },
   "outputs": [
    {
     "data": {
      "text/plain": [
       "array([[4.21509616],\n",
       "       [2.77011339]])"
      ]
     },
     "execution_count": 10,
     "metadata": {},
     "output_type": "execute_result"
    }
   ],
   "source": [
    "theta_best = np.linalg.inv(x_b.T.dot(x_b)).dot(x_b.T).dot(y)\n",
    "theta_best"
   ]
  },
  {
   "cell_type": "markdown",
   "metadata": {},
   "source": [
    "生成数据的函数是 $y=4 + 3x_1 + guassian\\_noise$，根据公式计算出来的是 $y=4.215 + 2.770x$，这非常接近了，但是噪声似的不可能完全得到原始函数的参数。"
   ]
  },
  {
   "cell_type": "code",
   "execution_count": 11,
   "metadata": {
    "ExecuteTime": {
     "end_time": "2021-03-17T16:15:36.375448Z",
     "start_time": "2021-03-17T16:15:36.365732Z"
    }
   },
   "outputs": [
    {
     "data": {
      "text/plain": [
       "array([[0.74908024, 1.        ],\n",
       "       [1.90142861, 1.        ],\n",
       "       [1.46398788, 1.        ],\n",
       "       [1.19731697, 1.        ]])"
      ]
     },
     "execution_count": 11,
     "metadata": {},
     "output_type": "execute_result"
    }
   ],
   "source": [
    "x_c = np.c_[x, np.ones((100, 1))]\n",
    "x_c[:4]"
   ]
  },
  {
   "cell_type": "code",
   "execution_count": 12,
   "metadata": {
    "ExecuteTime": {
     "end_time": "2021-03-17T16:15:49.741130Z",
     "start_time": "2021-03-17T16:15:49.732948Z"
    },
    "scrolled": true
   },
   "outputs": [
    {
     "data": {
      "text/plain": [
       "array([[2.77011339],\n",
       "       [4.21509616]])"
      ]
     },
     "execution_count": 12,
     "metadata": {},
     "output_type": "execute_result"
    }
   ],
   "source": [
    "np.linalg.inv(x_c.T.dot(x_c)).dot(x_c.T).dot(y)"
   ]
  },
  {
   "cell_type": "markdown",
   "metadata": {},
   "source": [
    "现在可以做预测了："
   ]
  },
  {
   "cell_type": "code",
   "execution_count": 14,
   "metadata": {
    "ExecuteTime": {
     "end_time": "2021-03-17T16:17:07.808729Z",
     "start_time": "2021-03-17T16:17:07.800366Z"
    }
   },
   "outputs": [
    {
     "data": {
      "text/plain": [
       "array([[1., 0.],\n",
       "       [1., 2.]])"
      ]
     },
     "execution_count": 14,
     "metadata": {},
     "output_type": "execute_result"
    }
   ],
   "source": [
    "x_new = np.array([[0], [2]])\n",
    "x_new_b = np.c_[np.ones((2, 1)), x_new]\n",
    "x_new_b"
   ]
  },
  {
   "cell_type": "code",
   "execution_count": 16,
   "metadata": {
    "ExecuteTime": {
     "end_time": "2021-03-17T16:17:23.479388Z",
     "start_time": "2021-03-17T16:17:23.472755Z"
    }
   },
   "outputs": [
    {
     "data": {
      "text/plain": [
       "array([[4.21509616],\n",
       "       [9.75532293]])"
      ]
     },
     "execution_count": 16,
     "metadata": {},
     "output_type": "execute_result"
    }
   ],
   "source": [
    "x_new_b.dot(theta_best)"
   ]
  },
  {
   "cell_type": "code",
   "execution_count": null,
   "metadata": {},
   "outputs": [],
   "source": []
  },
  {
   "cell_type": "code",
   "execution_count": null,
   "metadata": {},
   "outputs": [],
   "source": []
  },
  {
   "cell_type": "code",
   "execution_count": null,
   "metadata": {},
   "outputs": [],
   "source": []
  },
  {
   "cell_type": "code",
   "execution_count": null,
   "metadata": {},
   "outputs": [],
   "source": []
  }
 ],
 "metadata": {
  "kernelspec": {
   "display_name": "Python 3",
   "language": "python",
   "name": "python3"
  },
  "language_info": {
   "codemirror_mode": {
    "name": "ipython",
    "version": 3
   },
   "file_extension": ".py",
   "mimetype": "text/x-python",
   "name": "python",
   "nbconvert_exporter": "python",
   "pygments_lexer": "ipython3",
   "version": "3.6.10"
  },
  "toc": {
   "base_numbering": 1,
   "nav_menu": {},
   "number_sections": false,
   "sideBar": true,
   "skip_h1_title": false,
   "title_cell": "Table of Contents",
   "title_sidebar": "Contents",
   "toc_cell": true,
   "toc_position": {},
   "toc_section_display": true,
   "toc_window_display": false
  },
  "varInspector": {
   "cols": {
    "lenName": 16,
    "lenType": 16,
    "lenVar": 40
   },
   "kernels_config": {
    "python": {
     "delete_cmd_postfix": "",
     "delete_cmd_prefix": "del ",
     "library": "var_list.py",
     "varRefreshCmd": "print(var_dic_list())"
    },
    "r": {
     "delete_cmd_postfix": ") ",
     "delete_cmd_prefix": "rm(",
     "library": "var_list.r",
     "varRefreshCmd": "cat(var_dic_list()) "
    }
   },
   "types_to_exclude": [
    "module",
    "function",
    "builtin_function_or_method",
    "instance",
    "_Feature"
   ],
   "window_display": false
  }
 },
 "nbformat": 4,
 "nbformat_minor": 4
}
