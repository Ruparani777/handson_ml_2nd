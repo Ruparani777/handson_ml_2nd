{
 "cells": [
  {
   "cell_type": "markdown",
   "metadata": {},
   "source": [
    "# Chapter 10 - Introduction to Artificial Neural Networks with Keras"
   ]
  },
  {
   "cell_type": "code",
   "execution_count": 1,
   "metadata": {
    "ExecuteTime": {
     "end_time": "2020-01-02T01:52:03.287380Z",
     "start_time": "2020-01-02T01:52:00.132605Z"
    }
   },
   "outputs": [],
   "source": [
    "import os\n",
    "import sys\n",
    "\n",
    "import matplotlib as mpl\n",
    "import matplotlib.pyplot as plt\n",
    "import numpy as np\n",
    "import pandas as pd\n",
    "import sklearn\n",
    "import tensorflow as tf\n",
    "from tensorflow import keras\n",
    "\n",
    "np.random.seed(42)\n",
    "tf.random.set_seed(42)\n",
    "%matplotlib inline\n",
    "mpl.rc('axes', labelsize=14)\n",
    "mpl.rc('xtick', labelsize=12)\n",
    "mpl.rc('ytick', labelsize=12)"
   ]
  },
  {
   "cell_type": "code",
   "execution_count": 2,
   "metadata": {
    "ExecuteTime": {
     "end_time": "2020-01-02T01:52:03.304096Z",
     "start_time": "2020-01-02T01:52:03.289126Z"
    }
   },
   "outputs": [
    {
     "name": "stdout",
     "output_type": "stream",
     "text": [
      "Python version:     sys.version_info(major=3, minor=6, micro=9, releaselevel='final', serial=0)\n",
      "TensorFlow version: 2.0.0\n",
      "Keras version:      2.2.4-tf\n"
     ]
    }
   ],
   "source": [
    "print('Python version:    ', sys.version_info)\n",
    "print('TensorFlow version:', tf.__version__)\n",
    "print('Keras version:     ', keras.__version__)"
   ]
  },
  {
   "cell_type": "markdown",
   "metadata": {},
   "source": [
    "**<font color='red'>Main content:</font>**\n",
    "1. introduce ANNs, starting with a quick tour of the very first ANN architectures, leading up to MLPs (Multi-Layer Perceptrons).\n",
    "\n",
    "2. implement NNs using the popular Keras API."
   ]
  },
  {
   "cell_type": "markdown",
   "metadata": {},
   "source": [
    "ANNs are at the very core of Deep Learning. They are versatile, powerful, and scalable, making them ideal to tackle large and highly complex Machine Learning tasks."
   ]
  },
  {
   "cell_type": "markdown",
   "metadata": {},
   "source": [
    "## 1 Artificial Neurons"
   ]
  },
  {
   "cell_type": "markdown",
   "metadata": {},
   "source": [
    "We should drop the biological analogy (类比) altogether (e.g., saying **units** rather than neurons), lest (以免) we strict our creativity to biologically plausible (看似可信的) systems.\n",
    "\n",
    "We are now witnessing yet another wave of interest in ANNs. A few good reasons to believe that this time is different:\n",
    "\n",
    "+ **A huge quantity of data available** to train NNs, and ANNs often **outperform other ML techs** on very large and complex problems.\n",
    "\n",
    "\n",
    "+ The **tremendous increase in computing power**, due to Moore's law (the number of components in integrated has doubled about every 2 years over the last 50 years), but also thanks to **gaming industry**, which has stimulated the production of powerful **GPU** cards by the millions. Moreover, **cloud platforms** have made this power accessible to everyone.\n",
    "\n",
    "\n",
    "+ The training algorithms have been improved. \n",
    "\n",
    "\n",
    "+ Some theoretical limitations of ANNs have turned out to be benign in practice.\n",
    "\n",
    "\n",
    "+ ANNs seem to have entered a virtuous circle (良性循环) of funding and process.\n",
    "\n",
    "### 1.1 The Perceptron (感知机）"
   ]
  },
  {
   "cell_type": "markdown",
   "metadata": {},
   "source": [
    "The **<font color='red'>perceptron</font>** is one of the simplest ANN architectures, based on a slightly different artificial neuron called a **<font color='red'>threshold logic unit (TLU)</font>** or sometimes a **<font color='red'>linear threshold unit (LTU)</font>**.\n",
    "\n",
    "![threshold linear unit](./figs/chap10-figs/threshold-linear-unit.png)\n",
    "\n",
    "\n",
    "The inputs and output are numbers (instead of binary on/off values), and each input connection is associated with a weight. The **TLU** computes a weighted sum of its inputs ($z = w_1x_1 + w_2x_2 + ⋯ + w_nx_n = x^Tw$), then applies a step function to that sum and outputs the result: $h_w(x) = step(z)$, where $z = x^Tw$.\n",
    "\n",
    "The **most common step function used in Perceptrons** is the **<font color='red'>Heaviside step function</font>**. Sometimes the **<font color='red'>sign function</font>** is used instead.\n",
    "\n",
    "$$ heaviside(z)= \\begin{cases}\n",
    "0, & \\text {if z < 0} \\\\ \n",
    "1, & \\text{if z $\\geq$ 0} \\end{cases}\n",
    "$$\n",
    "\n",
    "$$ sgn(z)= \\begin{cases}\n",
    "-1, & \\text {if z < 0} \\\\ \n",
    "0, & \\text {if z = 0} \\\\\n",
    "1, & \\text{if z $\\gt$ 0} \\end{cases}\n",
    "$$\n",
    "\n",
    "<br>\n",
    "\n",
    "**A single TLU can be used for simple linear binary classification.**\n",
    "\n",
    "\n",
    "A Perceptron is simply composed of a single layer of TLUs, with each TLU connected to all the inputs. When all the neurons in a layer are connected to every neuron in the previous layer (i.e., its input neurons), the layer is called a **<font color='red'>fully connected layer</font>**, or a **<font color='red'>dense layer</font>**. \n",
    "\n",
    "Computing the outputs of a fully connected layer:\n",
    "$$h_{w,b}(X) = \\phi(XW+b)$$\n",
    "\n",
    "> $\\phi$ is called the **activation function**: when the artificial units are TLUs, it's a step function.\n",
    "\n",
    "<br>\n",
    "\n",
    "**<font color='blue'>How is a Perceptron trained?</font>**\n",
    "\n",
    "**Hebb's rule or Hebb's learning** -- “Cells that fire together, wire together”; that is, the connection weight between two neurons tends to increase when they fire simultaneously. Perceptrons are trained using a variant of this rule that takes into account the error made by the NN when it makes a prediction. **The Perceptron learning rule reinforces加强 connections that help reduce the error**. More specifically, the Perceptron is fed one training instance at a time, and for each instance it makes its predictions. For every output neuron that **produced a wrong prediction**, it **reinforces the connection weights from the inputs** that would have contributed to the correct prediction.\n",
    "\n",
    "**Perceptron learning rule (weight update):**\n",
    "\n",
    "$$w_{i, j}^{(next  step)}=w_{i, j} + \\eta(y_j - \\hat {y_{j}})x_i$$\n",
    "\n",
    "+ $w_{i, j}$ is the connection weight between the $i^{th}$ input neuron and the $j^{th}$ output neuron.\n",
    "\n",
    "+ $x_i$ is the $i^{th}$ input value of the current training instance.\n",
    "\n",
    "+ $\\hat {y_{j}}$ is the output of the $j^{th}$ output neuron for the current training instance.\n",
    "\n",
    "+ $y_j$ is the target output of the $j^{th}$ output neuron for the current training instance.\n",
    "\n",
    "+ $\\eta$ is the learning rate.\n",
    "\n",
    "<br>\n",
    "\n",
    "**The decision boundary of each output neuron is linear, so Perceptrons are incapable of learning complex patterns (just like Logistic Regression classifiers)**. However, if the training instances are linearly separable, Rthis algorithm would converge to a solution. This is called the **<font color='red'>Perceptron convergence theorem</font>**."
   ]
  },
  {
   "cell_type": "code",
   "execution_count": 3,
   "metadata": {
    "ExecuteTime": {
     "end_time": "2020-01-02T01:52:03.581267Z",
     "start_time": "2020-01-02T01:52:03.306219Z"
    }
   },
   "outputs": [
    {
     "data": {
      "text/plain": [
       "array([1])"
      ]
     },
     "execution_count": 3,
     "metadata": {},
     "output_type": "execute_result"
    }
   ],
   "source": [
    "# A `Perceptron` class with a single-TLU network in Sklearn\n",
    "from sklearn.datasets import load_iris\n",
    "from sklearn.linear_model import Perceptron\n",
    "\n",
    "iris = load_iris()\n",
    "x = iris.data[:, (2, 3)]  # only two features\n",
    "y = (iris.target == 0).astype(np.int)\n",
    "\n",
    "perceptron_clf = Perceptron(max_iter=1000, tol=1e-3, random_state=42)\n",
    "perceptron_clf.fit(x, y)\n",
    "\n",
    "perceptron_clf.predict([[2, 0.5]])"
   ]
  },
  {
   "cell_type": "markdown",
   "metadata": {},
   "source": [
    "**<font color='blue'>The Perceptron learning algorithm strongly resembles Stochastic Gradient Descent</font>**. In fact, Scikit-Learn’s `Perceptron` class is equivalent to using an `SGDClassifier` with the following hyperparameters: `loss=\"perceptron\"`, `learning_rate=\"constant\"`, `eta0=1` (the learning rate), and `penalty=None` (no regularization).\n",
    "\n",
    "Note that contrary to Logistic Regression classifiers, **Perceptrons do not output a class probability**; rather, they **make predictions based on a hard threshold**. **<font color='blue'>This is one reason to prefer Logistic Regression over Perceptrons.</font>**\n",
    "\n",
    "\n",
    "**<font color='blue'>A serious weakness of Perceptrons</font>:** they are incapable of solving some trivial problems (e.g., the Exclusive OR (XOR)) classification problem. This is true of any other linear clf model (such as LR clf).\n",
    "\n",
    "It turns out that some of the limitations of Perceptrons can be eliminated (消除) by stacking multiple Perceptrons. The resulting ANN is called a **<font color='red'>Multilayer Perceptron (MLP)</font>**. **An MLP can solve the XOR problem.**\n",
    "\n",
    "> **XOR**: with inputs (0, 0) or (1, 1), the network outputs 0, and with inputs (0, 1) or (1, 0) it outputs 1.\n",
    "\n",
    "![XOR](./figs/chap10-figs/XOR-classification-problem-and-an-MLP-that-solves-it.png)\n",
    "\n",
    "> All connections have a weight equal to 1, except the four connections where the weight is shown."
   ]
  },
  {
   "cell_type": "markdown",
   "metadata": {},
   "source": [
    "### 1.2 The Multiplayer Perceptron and Backpropagation"
   ]
  },
  {
   "cell_type": "markdown",
   "metadata": {},
   "source": [
    "An **<font color='red'>MLP</font>** is composed of one input layer, one or more layers of TLUs, called **<font color='red'>hidden layers</font>**, and one final layer of TLUs called the **<font color='red'>output layer</font>**. The layers close to the input layer are usually called the **<font color='red'>lower layers</font>**, and the ones close to the outputs are usually called the **<font color='red'>upper layers</font>**. Every layer except the output layer includes a bias neuron and is fully connected to the next layer.\n",
    "\n",
    "![MLP](./figs/chap10-figs/mlp.png)\n",
    "\n",
    "<div class=\"alert alert-block alert-info\">\n",
    "    <center><b>Note (FNN)</b></center><br> The signal flows only in one direction (from the inputs to the outputs), so this architecture is an example of a <b>feedforward neural network (FNN)</b>.\n",
    "</div>\n",
    "\n",
    "When an ANN contains a deep stack of hidden layers, it is called a **<font color='red'>deep neural network (DNN)</font>**. The field of Deep Learning studies DNNs, and more generally models containing deep stacks of computations. Even so, many people talk about Deep Learning whenever neural networks are involved (even shallow ones).\n",
    "\n",
    "<br>\n",
    "\n",
    "**<font color='red'>Train MLPs?</font>**\n",
    "\n",
    "Use **<font color='red'>backpropagation training algorithm</font>**. In short, it is Gradient Descent using an efficient technique for computing the gradients automatically: in just two **passes through the network (one forward, one backward)**, the backpropagation algorithm is able to **compute the gradient of the network’s error with regard to every single model parameter**. In other words, it can **find out how each connection weight and each bias term should be tweaked in order to reduce the error**. Once it has these gradients, it just performs a regular Gradient Descent step, and the whole process is repeated until the network converges to the solution.\n",
    "\n",
    "<div class=\"alert alert-block alert-info\">\n",
    "    <center><b>Note (Autodiff)</b></center><br> Automatically computing gradients is called <b>automatic differentiation</b>, or <b>autodiff</b>. There are various autodiff techniques, with different pros and cons(有不同的利弊). The one used by backpropagation is called <b>reverse-mode autodiff</b>. It is fast and precise, and is well suited when the function to differentiate has many variables (e.g., connection weights) and few outputs (e.g., one loss). If you want to learn more about autodiff, check out Appendix D.\n",
    "</div>\n",
    "\n",
    "<br>\n",
    "\n",
    "**<font color='red'>Backpropagation training algorithm:</font>**\n",
    "+ It handles one mini-batch at a time (for example, containing 32 instances each), and it goes through the full training set multiple times. Each pass is called an **<font color='red'>epoch</font>**.\n",
    "\n",
    "\n",
    "+ Each mini-batch is passed to the network’s input layer, which sends it to the first hidden layer. The algorithm then computes the output of all the neurons in this layer (for every instance in the mini-batch). The result is passed on to the next layer, its output is computed and passed to the next layer, and so on until we get the output of the last layer, the output layer. This is the **<font color='blue'>forward pass</font>**: it is exactly like making predictions, except all intermediate results are preserved since they are needed for the backward pass.\n",
    "\n",
    "\n",
    "+ Next, the algorithm **measures the network’s output error** (i.e., it **uses a loss function** that compares the desired output and the actual output of the network, and returns some measure of the error).\n",
    "\n",
    "\n",
    "+ Then it **computes how much each output connection contributed to the error**. This is done analytically by applying the **chain rule** (perhaps the most fundamental rule in calculus), which makes this step fast and precise.\n",
    "\n",
    "\n",
    "+ The algorithm then **measures how much of these error contributions came from each connection in the layer below**, again using the chain rule, working backward until the algorithm reaches the input layer. As explained earlier, this reverse pass efficiently measures the error gradient across all the connection weights in the network by propagating the error gradient backward through the network (**hence the name of the algorithm**).\n",
    "\n",
    "\n",
    "+ Finally, the algorithm **performs a Gradient Descent step to tweak all the connection weights in the network**, using the error gradients it just computed.\n",
    "\n",
    "<br>\n",
    "\n",
    "**<font color='red'>BP summary:</font>** for each training instance, the backpropagation algorithm first makes a prediction (forward pass) and measures the error, then goes through each layer in reverse to measure the error contribution from each connection (reverse pass), and finally tweaks the connection weights to reduce the error (Gradient Descent step).\n",
    "\n",
    "<br>\n",
    "\n",
    "<div class=\"alert alert-block alert-warning\">\n",
    "    <center><b>Warning (随机初始化权重的重要性)</b></center><br> <b>It is important to initialize all the hidden layers’ connection weights randomly, or else training will fail.</b> For example, if you <b>initialize all weights and biases to zero</b>, then all neurons in a given layer will be perfectly identical, and thus backpropagation will affect them in exactly the same way, so they will remain identical. In other words, despite having hundreds of neurons per layer, your model will act as if it had only one neuron per layer: it won’t be too smart. If instead you randomly initialize the weights, you break the symmetry and allow backpropagation to train a diverse team of neurons.\n",
    "</div>\n",
    "\n",
    "<br>\n",
    "\n",
    "In order for this BP algorithm to work properly, its author made a key change: they **<font color='blue'>replaced the step function with the logistic (sigmoid) function</font>** (不止logistic 函数，其他激活函数也行). This was essential because the **step function contains only flat segments, so there is no gradient to work with** (Gradient Descent cannot move on a flat surface), while the logistic function has a well-defined nonzero derivative everywhere, allowing Gradient Descent to make some progress at every step.\n",
    "\n",
    "+ **<font color='red'>logistic (sigmoid) function</font>**\n",
    "\n",
    "$$\\sigma(z) = \\frac{1}{1+e^{-z}}$$\n",
    "\n",
    "\n",
    "+ **<font color='red'>the hyperbolic tangent function</font>**\n",
    "\n",
    "$$tanh(z) = 2\\sigma(2z) - 1$$\n",
    "\n",
    "S-shaped, continuous, and differentiable, but its **output value ranges from -1 to 1** (instead fo 0 to 1 in the case of the logistic/sigmoid function). This range **tends to make each layer's output more or less centered around 0 at the beginning of training, which often helps speed up convergence.**\n",
    "\n",
    "\n",
    "+ **<font color='red'>the rectified linear unit function</font>**\n",
    "\n",
    "$$ReLU(z) = max(0, z)$$\n",
    "\n",
    "The ReLU function is continuous but unfortunately **not differentiable at z = 0 (the slope changes abruptly, which can make Gradient Descent bounce around)**, and its derivative is 0 for z < 0. In practice, however, it **works very well and has the advantage of being fast to compute, so it has become the default**. Most importantly, the fact that it **does not have a maximum output value** helps reduce some issues during Gradient Descent.\n",
    "\n",
    "**<font color='red'>Why need nonlinear activation function?</font>**\n",
    "\n",
    "If you chain several linear transformations, all you get is a linear transformation. So, if you don’t have some nonlinearity between layers, then even a deep stack of layers is equivalent to a single layer, and you can’t solve very complex problems with that. Conversely, a large enough DNN with nonlinear activations can theoretically approximate any continuous function."
   ]
  },
  {
   "cell_type": "code",
   "execution_count": 4,
   "metadata": {
    "ExecuteTime": {
     "end_time": "2020-01-02T01:52:03.587744Z",
     "start_time": "2020-01-02T01:52:03.583641Z"
    },
    "code_folding": [
     0,
     4,
     9
    ]
   },
   "outputs": [],
   "source": [
    "def sigmoid(z):\n",
    "    return 1 / (1 + np.exp(-z))\n",
    "\n",
    "\n",
    "def relu(z):\n",
    "    return np.maximum(0, z)\n",
    "\n",
    "\n",
    "# scipy.misc.derivative\n",
    "def derivative(f, z, eps=1e-6):\n",
    "    return (f(z+eps) - f(z-eps)) / (2*eps)"
   ]
  },
  {
   "cell_type": "code",
   "execution_count": 5,
   "metadata": {
    "ExecuteTime": {
     "end_time": "2020-01-02T01:52:03.978442Z",
     "start_time": "2020-01-02T01:52:03.589746Z"
    },
    "code_folding": [
     0
    ]
   },
   "outputs": [
    {
     "data": {
      "image/png": "[encoded data removed]",
      "text/plain": [
       "<Figure size 1080x432 with 2 Axes>"
      ]
     },
     "metadata": {
      "needs_background": "light"
     },
     "output_type": "display_data"
    }
   ],
   "source": [
    "# activation function and its derivate\n",
    "z = np.linspace(-5, 5, 200)\n",
    "\n",
    "plt.figure(figsize=(15, 6))\n",
    "\n",
    "plt.subplot(121)\n",
    "plt.plot(z, np.sign(z), \"r-\", linewidth=1, label=\"Step\")\n",
    "plt.plot(z, sigmoid(z), \"g--\", linewidth=2, label=\"Sigmoid\")\n",
    "plt.plot(z, np.tanh(z), \"b-\", linewidth=2, label=\"Tanh\")\n",
    "plt.plot(z, relu(z), \"m-.\", linewidth=2, label=\"ReLU\")\n",
    "plt.grid(True)\n",
    "plt.legend(loc=\"center right\", fontsize=14)\n",
    "plt.title(\"Activation functions\", fontsize=14)\n",
    "plt.axis([-5, 5, -1.2, 1.2])\n",
    "\n",
    "plt.subplot(122)\n",
    "plt.plot(z, derivative(np.sign, z), \"r-\", linewidth=1, label=\"Step\")\n",
    "plt.plot(0, 0, \"ro\", markersize=5)\n",
    "plt.plot(0, 0, \"rx\", markersize=10)\n",
    "plt.plot(z, derivative(sigmoid, z), \"g--\", linewidth=2, label=\"Sigmoid\")\n",
    "plt.plot(z, derivative(np.tanh, z), \"b-\", linewidth=2, label=\"Tanh\")\n",
    "plt.plot(z, derivative(relu, z), \"m-.\", linewidth=2, label=\"ReLU\")\n",
    "plt.grid(True)\n",
    "#plt.legend(loc=\"center right\", fontsize=14)\n",
    "plt.title(\"Derivatives\", fontsize=14)\n",
    "plt.axis([-5, 5, -0.2, 1.2])\n",
    "\n",
    "plt.show()"
   ]
  },
  {
   "cell_type": "markdown",
   "metadata": {},
   "source": [
    "### 1.3 Regression MLPs"
   ]
  },
  {
   "cell_type": "markdown",
   "metadata": {},
   "source": [
    "**<font color='red'>Typical regression MLP architecture:</font>**\n",
    "\n",
    "| **Hyperparameter** | **Typical value** |\n",
    "| :--- | :--- |\n",
    "|**input units**| one per input feature|\n",
    "|**hidden layers**| depends on the problem, but typically 1 to 5|\n",
    "|**units per hidden layer**| depends on the problem, but typically 10 to 100|\n",
    "|**output units**| 1 per prediction dimension|\n",
    "|**hidden activation**| ReLU (or SELU)|\n",
    "|**ouput activation**|None, or ReLU/softplus (if positive outputs) or logistic/tanh (if bounded outputs)|\n",
    "|**loss function**|MSE or MAE/Huber (if outliers)|"
   ]
  },
  {
   "cell_type": "markdown",
   "metadata": {},
   "source": [
    "**<font color='blue'>How many outputs?</font>**\n",
    "+ **predict a single value**, just need a single output unit: its output is the predicted value.\n",
    "\n",
    "\n",
    "+ **predict multiple values at once (multivariate regression)**, need one unit per output dimension\n",
    "\n",
    "<br>\n",
    "\n",
    "**<font color='blue'>Which activation function should be used in regression mlps?</font>**\n",
    "\n",
    "+ don't use any activation function for the output units, the outputs are free to **output any range of values**\n",
    "\n",
    "\n",
    "+ use the ReLU or softplus activation function in the output layer to guarantee that the **outputs will be always be positive**\n",
    "\n",
    "\n",
    "$$softplus(z) = log(1+e^z)$$\n",
    "\n",
    "\n",
    "+ use the logistic function or the hyperbolic tangent, and then scale the labels to the appropriate range to guarantee that the **predictions will fall within a given range of values**\n",
    "\n",
    "<br>\n",
    "\n",
    "**<font color='blue'>Loss function used in regression mlps</font>**\n",
    "\n",
    "typically **the mean squared error (MSE)**, but if you have a lot of outliers in the training set, you may prefer to use **the mean absolute error (MAE)** instead. Alternatively, you can use the **Huber loss**, which is a combination of both.\n",
    "\n",
    "\n",
    "$$ huber(y, \\hat y)= \\begin{cases}\n",
    "\\frac{1}{2}(y-\\hat y)^2, & \\text {if $|y-\\hat y| < \\delta$, typically 1} \\\\ \n",
    "\\delta |y-\\hat y| - \\frac{1}{2}\\delta^2, & \\text{otherwise} \\end{cases}\n",
    "$$\n",
    "\n",
    "> **<font color='red'>Huber loss的优点: </font>** The linear part makes it less sensitive to outliers than the mean squared error, and the quadratic part allows it to converge faster and be more precise than the mean absolute error."
   ]
  },
  {
   "cell_type": "markdown",
   "metadata": {},
   "source": [
    "### 1.4 Classification MLPs"
   ]
  },
  {
   "cell_type": "markdown",
   "metadata": {},
   "source": [
    "**<font color='red'>Typical classification MLP architecture:</font>**\n",
    "\n",
    "| **Hyperparameter** | **Binary classification** | **Multilabel binary classfication** | **Multiclass classification**|\n",
    "| :-- | : -- | :-- | : -- |\n",
    "|**input units**| one per input feature | one per input feature | one per input feature |\n",
    "|**hidden layers**| depends on the problem (typically 1 to 5)| depends on the problem (typically 1 to 5| depends on the problem (typically 1 to 5|\n",
    "|**units per hidden layer**| depends on the problem (typically 10 to 100)| depends on the problem (typically 10 to 100)| depends on the problem (typically 10 to 100)|\n",
    "|**output units**|1|1 per label| 1 per class|\n",
    "|**output layer activation**|sigmoid|sigmoid| softmax|\n",
    "|**loss function**|cross entropy| cross entropy| cross entropy|"
   ]
  },
  {
   "cell_type": "markdown",
   "metadata": {},
   "source": [
    "+ **binary classification**, just **need a single output neuron using the logistic (sigmoid) activation function**: the output will be a number between 0 and 1, which you can interpret as **the estimated probability of the positive class**. The estimated probability of the negative class is equal to one minus that number.\n",
    "\n",
    "\n",
    "+ **multilabel binary classification tasks**, need multiple output units, both using the sigmoid activation function. Note that the output probabilities do not necessarily add up to 1, which lets the model output any combination of labels.\n",
    "\n",
    "\n",
    "+ **multiclass classification**, need to have one output neuron per class, and you should use the softmax activation function for the whole output layer. The softmax function will ensure that all the estimated probabilities are between 0 and 1 and that they add up to 1 (which is required if the classes are exclusive). \n",
    "\n",
    "<br>\n",
    "\n",
    "Regarding the **loss function**, since we are predicting probability distributions, the **cross-entropy loss** (also called the **log loss**, see Chapter 4) is generally a good choice."
   ]
  },
  {
   "cell_type": "markdown",
   "metadata": {},
   "source": [
    "## 2 Implement MLPs with keras"
   ]
  },
  {
   "cell_type": "markdown",
   "metadata": {},
   "source": [
    "TensorFlow itself now comes bundled with its own Keras implementation, `tf.keras`. It only supports TensorFlow as the backend, but it has the advantage of offering some very useful extra features.\n",
    "\n",
    "<br>\n",
    "\n",
    "![Keras vs tf.keras](./figs/chap10-figs/keras-vs-tf.keras.png)\n",
    "\n",
    "<center>Two implementations of the Keras API: multibackend Keras (left) and tf.keras (right)</center>"
   ]
  },
  {
   "cell_type": "markdown",
   "metadata": {},
   "source": [
    "> Both [Keras](https://keras.io/) and [Pytorch](https://pytorch.org/) APIs are inspired by [Scikit-Learn](https://pytorch.org/) and [Chainer](https://chainer.org/). Once you know Keras, it is not difficult to switch to PyTorch, if you ever want to."
   ]
  },
  {
   "cell_type": "markdown",
   "metadata": {},
   "source": [
    "### 2.1 Classifier using the Sequential API"
   ]
  },
  {
   "cell_type": "markdown",
   "metadata": {},
   "source": [
    "**dataset:** Fashion MNIST\n",
    "\n",
    "> a drop-in replacement of MNIST; has the exact same format as MNIST; more diverse, and the problem turns out to be significantly more challenging than MNIST"
   ]
  },
  {
   "cell_type": "code",
   "execution_count": 6,
   "metadata": {
    "ExecuteTime": {
     "end_time": "2020-01-02T01:52:04.326187Z",
     "start_time": "2020-01-02T01:52:03.979821Z"
    }
   },
   "outputs": [],
   "source": [
    "# Load the dataset\n",
    "fashion_mnist = keras.datasets.fashion_mnist\n",
    "(x_train, y_train), (x_test, y_test) = fashion_mnist.load_data()"
   ]
  },
  {
   "cell_type": "markdown",
   "metadata": {},
   "source": [
    "**<font color='red'>Keras vs Scikit-Learn when loading MNIST or Fashion MNIST:</font>**\n",
    "+ every image is represented as a 28 × 28 array rather than a 1D array of size 784;\n",
    "\n",
    "\n",
    "+ the pixel intensities are represented as integers (from 0 to 255) rather than floats (from 0.0 to 255.0)."
   ]
  },
  {
   "cell_type": "code",
   "execution_count": 7,
   "metadata": {
    "ExecuteTime": {
     "end_time": "2020-01-02T01:52:04.331186Z",
     "start_time": "2020-01-02T01:52:04.327597Z"
    }
   },
   "outputs": [
    {
     "data": {
      "text/plain": [
       "array([[  0,   0,   0,   0,   0,   0,   0,   0,   0,   0,   0,   0,   0,\n",
       "        193, 228, 218, 213, 198, 180, 212, 210, 211, 213, 223, 220, 243,\n",
       "        202,   0],\n",
       "       [  0,   0,   0,   0,   0,   0,   0,   0,   0,   1,   3,   0,  12,\n",
       "        219, 220, 212, 218, 192, 169, 227, 208, 218, 224, 212, 226, 197,\n",
       "        209,  52],\n",
       "       [  0,   0,   0,   0,   0,   0,   0,   0,   0,   0,   6,   0,  99,\n",
       "        244, 222, 220, 218, 203, 198, 221, 215, 213, 222, 220, 245, 119,\n",
       "        167,  56],\n",
       "       [  0,   0,   0,   0,   0,   0,   0,   0,   0,   4,   0,   0,  55,\n",
       "        236, 228, 230, 228, 240, 232, 213, 218, 223, 234, 217, 217, 209,\n",
       "         92,   0],\n",
       "       [  0,   0,   1,   4,   6,   7,   2,   0,   0,   0,   0,   0, 237,\n",
       "        226, 217, 223, 222, 219, 222, 221, 216, 223, 229, 215, 218, 255,\n",
       "         77,   0]], dtype=uint8)"
      ]
     },
     "execution_count": 7,
     "metadata": {},
     "output_type": "execute_result"
    }
   ],
   "source": [
    "x_train[0][10:15]"
   ]
  },
  {
   "cell_type": "markdown",
   "metadata": {},
   "source": [
    "> 非黑白图像。"
   ]
  },
  {
   "cell_type": "code",
   "execution_count": 8,
   "metadata": {
    "ExecuteTime": {
     "end_time": "2020-01-02T01:52:04.337592Z",
     "start_time": "2020-01-02T01:52:04.334305Z"
    }
   },
   "outputs": [
    {
     "data": {
      "text/plain": [
       "((60000, 28, 28), (10000, 28, 28))"
      ]
     },
     "execution_count": 8,
     "metadata": {},
     "output_type": "execute_result"
    }
   ],
   "source": [
    "x_train.shape, x_test.shape"
   ]
  },
  {
   "cell_type": "code",
   "execution_count": 9,
   "metadata": {
    "ExecuteTime": {
     "end_time": "2020-01-02T01:52:04.343640Z",
     "start_time": "2020-01-02T01:52:04.340236Z"
    }
   },
   "outputs": [
    {
     "data": {
      "text/plain": [
       "dtype('uint8')"
      ]
     },
     "execution_count": 9,
     "metadata": {},
     "output_type": "execute_result"
    }
   ],
   "source": [
    "x_train.dtype"
   ]
  },
  {
   "cell_type": "code",
   "execution_count": 10,
   "metadata": {
    "ExecuteTime": {
     "end_time": "2020-01-02T01:52:04.348554Z",
     "start_time": "2020-01-02T01:52:04.345321Z"
    }
   },
   "outputs": [
    {
     "data": {
      "text/plain": [
       "array([9, 0, 0, ..., 3, 0, 5], dtype=uint8)"
      ]
     },
     "execution_count": 10,
     "metadata": {},
     "output_type": "execute_result"
    }
   ],
   "source": [
    "y_train"
   ]
  },
  {
   "cell_type": "code",
   "execution_count": 11,
   "metadata": {
    "ExecuteTime": {
     "end_time": "2020-01-02T01:52:04.597557Z",
     "start_time": "2020-01-02T01:52:04.350100Z"
    }
   },
   "outputs": [],
   "source": [
    "# train the NN using Gradient Descent, so we must scale the input features\n",
    "x_train = x_train / 255.0  # for simplicity\n",
    "x_val, x_train = x_train[:5000], x_train[5000:]\n",
    "y_val, y_train = y_train[:5000], y_train[5000:]\n",
    "\n",
    "x_test = x_test / 255.0"
   ]
  },
  {
   "cell_type": "code",
   "execution_count": 12,
   "metadata": {
    "ExecuteTime": {
     "end_time": "2020-01-02T01:52:04.602016Z",
     "start_time": "2020-01-02T01:52:04.599543Z"
    }
   },
   "outputs": [],
   "source": [
    "# class names\n",
    "class_names = [\n",
    "    \"T-shirt/top\", \"Trouser\", \"Pullover\", \"Dress\", \"Coat\", \"Sandal\", \"Shirt\",\n",
    "    \"Sneaker\", \"Bag\", \"Ankle boot\"\n",
    "]"
   ]
  },
  {
   "cell_type": "code",
   "execution_count": 13,
   "metadata": {
    "ExecuteTime": {
     "end_time": "2020-01-02T01:52:04.607282Z",
     "start_time": "2020-01-02T01:52:04.603729Z"
    }
   },
   "outputs": [
    {
     "data": {
      "text/plain": [
       "'Coat'"
      ]
     },
     "execution_count": 13,
     "metadata": {},
     "output_type": "execute_result"
    }
   ],
   "source": [
    "class_names[y_train[0]]"
   ]
  },
  {
   "cell_type": "code",
   "execution_count": 14,
   "metadata": {
    "ExecuteTime": {
     "end_time": "2020-01-02T01:52:04.684509Z",
     "start_time": "2020-01-02T01:52:04.608912Z"
    }
   },
   "outputs": [
    {
     "data": {
      "image/png": "[encoded data removed]",
      "text/plain": [
       "<Figure size 432x288 with 1 Axes>"
      ]
     },
     "metadata": {
      "needs_background": "light"
     },
     "output_type": "display_data"
    }
   ],
   "source": [
    "# plot an image\n",
    "plt.imshow(x_train[0], cmap='binary')\n",
    "plt.axis('off')\n",
    "plt.show()"
   ]
  },
  {
   "cell_type": "code",
   "execution_count": 15,
   "metadata": {
    "ExecuteTime": {
     "end_time": "2020-01-02T01:52:05.730800Z",
     "start_time": "2020-01-02T01:52:04.686343Z"
    }
   },
   "outputs": [
    {
     "data": {
      "image/png": "[encoded data removed]",
      "text/plain": [
       "<Figure size 864x345.6 with 40 Axes>"
      ]
     },
     "metadata": {
      "needs_background": "light"
     },
     "output_type": "display_data"
    }
   ],
   "source": [
    "n_rows = 4\n",
    "n_cols = 10\n",
    "plt.figure(figsize=(n_cols * 1.2, n_rows * 1.2))\n",
    "for row in range(n_rows):\n",
    "    for col in range(n_cols):\n",
    "        index = n_cols * row + col\n",
    "        plt.subplot(n_rows, n_cols, index + 1)\n",
    "        plt.imshow(x_train[index], cmap=\"binary\", interpolation=\"nearest\")\n",
    "        plt.axis('off')\n",
    "        plt.title(class_names[y_train[index]], fontsize=12)\n",
    "plt.subplots_adjust(wspace=0.2, hspace=0.5)\n",
    "plt.show()"
   ]
  },
  {
   "cell_type": "code",
   "execution_count": 16,
   "metadata": {
    "ExecuteTime": {
     "end_time": "2020-01-02T01:52:05.800192Z",
     "start_time": "2020-01-02T01:52:05.732865Z"
    }
   },
   "outputs": [],
   "source": [
    "# build the model using the sequential API\n",
    "np.random.seed(42)\n",
    "tf.random.set_seed(42)\n",
    "tf.keras.backend.clear_session()\n",
    "\n",
    "model = keras.models.Sequential()\n",
    "model.add(keras.layers.Flatten(input_shape=(28, 28)))\n",
    "model.add(keras.layers.Dense(300, activation='relu'))\n",
    "model.add(keras.layers.Dense(100, activation='relu'))\n",
    "model.add(keras.layers.Dense(10, activation='softmax'))"
   ]
  },
  {
   "cell_type": "markdown",
   "metadata": {},
   "source": [
    "+ **<font color='red'>Flatten layer</font>** converts each input image into a 1D array: if it receives input data `X`, it computes `X.reshape(-1, 1)`. This layer does not have any parameters; it is just there to do some simple preprocessing.\n",
    "\n",
    "\n",
    "+ You should specify the **`input_shape`** in thee first layer in the model, which doesn’t include the batch size, only the shape of the instances. You could add a **`tf.keras.layers.InputLayer`** as the first layer, setting `input_shape=(28,28)`.\n",
    "\n",
    "\n",
    "+ `activation='relu'` is same as `tf.activation=keras.activations.relu`."
   ]
  },
  {
   "cell_type": "code",
   "execution_count": 17,
   "metadata": {
    "ExecuteTime": {
     "end_time": "2020-01-02T01:52:05.846274Z",
     "start_time": "2020-01-02T01:52:05.802094Z"
    }
   },
   "outputs": [],
   "source": [
    "# Instead of adding the layers one by one above, \n",
    "# you can pass a list of layers when creating the Sequential model\n",
    "np.random.seed(42)\n",
    "tf.random.set_seed(42)\n",
    "tf.keras.backend.clear_session()\n",
    "\n",
    "model = keras.models.Sequential([\n",
    "    keras.layers.InputLayer(input_shape=(28, 28)),\n",
    "    keras.layers.Flatten(),\n",
    "    keras.layers.Dense(300, activation='relu'),\n",
    "    keras.layers.Dense(100, activation='relu'),\n",
    "    keras.layers.Dense(10, activation='softmax'),\n",
    "])"
   ]
  },
  {
   "cell_type": "code",
   "execution_count": 18,
   "metadata": {
    "ExecuteTime": {
     "end_time": "2020-01-02T01:52:05.854007Z",
     "start_time": "2020-01-02T01:52:05.848686Z"
    },
    "scrolled": true
   },
   "outputs": [
    {
     "name": "stdout",
     "output_type": "stream",
     "text": [
      "Model: \"sequential\"\n",
      "_________________________________________________________________\n",
      "Layer (type)                 Output Shape              Param #   \n",
      "=================================================================\n",
      "flatten (Flatten)            (None, 784)               0         \n",
      "_________________________________________________________________\n",
      "dense (Dense)                (None, 300)               235500    \n",
      "_________________________________________________________________\n",
      "dense_1 (Dense)              (None, 100)               30100     \n",
      "_________________________________________________________________\n",
      "dense_2 (Dense)              (None, 10)                1010      \n",
      "=================================================================\n",
      "Total params: 266,610\n",
      "Trainable params: 266,610\n",
      "Non-trainable params: 0\n",
      "_________________________________________________________________\n"
     ]
    }
   ],
   "source": [
    "model.summary()"
   ]
  },
  {
   "cell_type": "markdown",
   "metadata": {},
   "source": [
    "The **model’s `summary()`** method **displays all the model’s layers, including each layer’s name** (which is automatically generated unless you set it when creating the layer), its **output shape** (`None` means the batch size can be anything), and **its number of parameters**. The summary ends with the total number of parameters, including trainable and non-trainable parameters. Here we only have trainable parameters."
   ]
  },
  {
   "cell_type": "markdown",
   "metadata": {},
   "source": [
    "**`Dense` layers often have a lot of parameters**. The first hidden layer has 784 x 300 connection weights, plus 300 bias terms, which adds up to 235,500 parameters. This gives the model quite a lot of flexibility to fit the training data, but it also means that the model runs the risk of overfitting, especially when you do not have a lot of training data."
   ]
  },
  {
   "cell_type": "code",
   "execution_count": 19,
   "metadata": {
    "ExecuteTime": {
     "end_time": "2020-01-02T01:52:05.859488Z",
     "start_time": "2020-01-02T01:52:05.856013Z"
    }
   },
   "outputs": [
    {
     "data": {
      "text/plain": [
       "[<tensorflow.python.keras.layers.core.Flatten at 0x1488b4518>,\n",
       " <tensorflow.python.keras.layers.core.Dense at 0x1488b4978>,\n",
       " <tensorflow.python.keras.layers.core.Dense at 0x1488b4da0>,\n",
       " <tensorflow.python.keras.layers.core.Dense at 0x1488cd0f0>]"
      ]
     },
     "execution_count": 19,
     "metadata": {},
     "output_type": "execute_result"
    }
   ],
   "source": [
    "model.layers"
   ]
  },
  {
   "cell_type": "code",
   "execution_count": 20,
   "metadata": {
    "ExecuteTime": {
     "end_time": "2020-01-02T01:52:05.865750Z",
     "start_time": "2020-01-02T01:52:05.861374Z"
    }
   },
   "outputs": [
    {
     "data": {
      "text/plain": [
       "<tensorflow.python.keras.layers.core.Dense at 0x1488b4978>"
      ]
     },
     "execution_count": 20,
     "metadata": {},
     "output_type": "execute_result"
    }
   ],
   "source": [
    "# fetch a layer by its index, or you can fetch it by name\n",
    "hidden1 = model.layers[1]\n",
    "hidden1"
   ]
  },
  {
   "cell_type": "code",
   "execution_count": 21,
   "metadata": {
    "ExecuteTime": {
     "end_time": "2020-01-02T01:52:05.870626Z",
     "start_time": "2020-01-02T01:52:05.867646Z"
    }
   },
   "outputs": [
    {
     "data": {
      "text/plain": [
       "'dense'"
      ]
     },
     "execution_count": 21,
     "metadata": {},
     "output_type": "execute_result"
    }
   ],
   "source": [
    "hidden1.name"
   ]
  },
  {
   "cell_type": "code",
   "execution_count": 22,
   "metadata": {
    "ExecuteTime": {
     "end_time": "2020-01-02T01:52:05.876058Z",
     "start_time": "2020-01-02T01:52:05.872790Z"
    }
   },
   "outputs": [
    {
     "data": {
      "text/plain": [
       "[]"
      ]
     },
     "execution_count": 22,
     "metadata": {},
     "output_type": "execute_result"
    }
   ],
   "source": [
    "hidden1.non_trainable_variables"
   ]
  },
  {
   "cell_type": "code",
   "execution_count": 23,
   "metadata": {
    "ExecuteTime": {
     "end_time": "2020-01-02T01:52:05.887896Z",
     "start_time": "2020-01-02T01:52:05.884093Z"
    }
   },
   "outputs": [
    {
     "data": {
      "text/plain": [
       "[]"
      ]
     },
     "execution_count": 23,
     "metadata": {},
     "output_type": "execute_result"
    }
   ],
   "source": [
    "hidden1.non_trainable_weights"
   ]
  },
  {
   "cell_type": "code",
   "execution_count": 24,
   "metadata": {
    "ExecuteTime": {
     "end_time": "2020-01-02T01:52:05.895246Z",
     "start_time": "2020-01-02T01:52:05.892039Z"
    }
   },
   "outputs": [
    {
     "data": {
      "text/plain": [
       "True"
      ]
     },
     "execution_count": 24,
     "metadata": {},
     "output_type": "execute_result"
    }
   ],
   "source": [
    "hidden1.trainable"
   ]
  },
  {
   "cell_type": "code",
   "execution_count": 25,
   "metadata": {
    "ExecuteTime": {
     "end_time": "2020-01-02T01:52:05.905057Z",
     "start_time": "2020-01-02T01:52:05.897296Z"
    }
   },
   "outputs": [
    {
     "data": {
      "text/plain": [
       "[<tf.Variable 'dense/kernel:0' shape=(784, 300) dtype=float32, numpy=\n",
       " array([[ 0.02448617, -0.00877795, -0.02189048, ..., -0.02766046,\n",
       "          0.03859074, -0.06889391],\n",
       "        [ 0.00476504, -0.03105379, -0.0586676 , ...,  0.00602964,\n",
       "         -0.02763776, -0.04165364],\n",
       "        [-0.06189284, -0.06901957,  0.07102345, ..., -0.04238207,\n",
       "          0.07121518, -0.07331658],\n",
       "        ...,\n",
       "        [-0.03048757,  0.02155137, -0.05400612, ..., -0.00113463,\n",
       "          0.00228987,  0.05581069],\n",
       "        [ 0.07061854, -0.06960931,  0.07038955, ..., -0.00384101,\n",
       "          0.00034875,  0.02878492],\n",
       "        [-0.06022581,  0.01577859, -0.02585464, ..., -0.00527829,\n",
       "          0.00272203, -0.06793761]], dtype=float32)>,\n",
       " <tf.Variable 'dense/bias:0' shape=(300,) dtype=float32, numpy=\n",
       " array([0., 0., 0., 0., 0., 0., 0., 0., 0., 0., 0., 0., 0., 0., 0., 0., 0.,\n",
       "        0., 0., 0., 0., 0., 0., 0., 0., 0., 0., 0., 0., 0., 0., 0., 0., 0.,\n",
       "        0., 0., 0., 0., 0., 0., 0., 0., 0., 0., 0., 0., 0., 0., 0., 0., 0.,\n",
       "        0., 0., 0., 0., 0., 0., 0., 0., 0., 0., 0., 0., 0., 0., 0., 0., 0.,\n",
       "        0., 0., 0., 0., 0., 0., 0., 0., 0., 0., 0., 0., 0., 0., 0., 0., 0.,\n",
       "        0., 0., 0., 0., 0., 0., 0., 0., 0., 0., 0., 0., 0., 0., 0., 0., 0.,\n",
       "        0., 0., 0., 0., 0., 0., 0., 0., 0., 0., 0., 0., 0., 0., 0., 0., 0.,\n",
       "        0., 0., 0., 0., 0., 0., 0., 0., 0., 0., 0., 0., 0., 0., 0., 0., 0.,\n",
       "        0., 0., 0., 0., 0., 0., 0., 0., 0., 0., 0., 0., 0., 0., 0., 0., 0.,\n",
       "        0., 0., 0., 0., 0., 0., 0., 0., 0., 0., 0., 0., 0., 0., 0., 0., 0.,\n",
       "        0., 0., 0., 0., 0., 0., 0., 0., 0., 0., 0., 0., 0., 0., 0., 0., 0.,\n",
       "        0., 0., 0., 0., 0., 0., 0., 0., 0., 0., 0., 0., 0., 0., 0., 0., 0.,\n",
       "        0., 0., 0., 0., 0., 0., 0., 0., 0., 0., 0., 0., 0., 0., 0., 0., 0.,\n",
       "        0., 0., 0., 0., 0., 0., 0., 0., 0., 0., 0., 0., 0., 0., 0., 0., 0.,\n",
       "        0., 0., 0., 0., 0., 0., 0., 0., 0., 0., 0., 0., 0., 0., 0., 0., 0.,\n",
       "        0., 0., 0., 0., 0., 0., 0., 0., 0., 0., 0., 0., 0., 0., 0., 0., 0.,\n",
       "        0., 0., 0., 0., 0., 0., 0., 0., 0., 0., 0., 0., 0., 0., 0., 0., 0.,\n",
       "        0., 0., 0., 0., 0., 0., 0., 0., 0., 0., 0.], dtype=float32)>]"
      ]
     },
     "execution_count": 25,
     "metadata": {},
     "output_type": "execute_result"
    }
   ],
   "source": [
    "hidden1.trainable_variables"
   ]
  },
  {
   "cell_type": "code",
   "execution_count": 26,
   "metadata": {
    "ExecuteTime": {
     "end_time": "2020-01-02T01:52:05.915951Z",
     "start_time": "2020-01-02T01:52:05.906936Z"
    }
   },
   "outputs": [
    {
     "data": {
      "text/plain": [
       "[<tf.Variable 'dense/kernel:0' shape=(784, 300) dtype=float32, numpy=\n",
       " array([[ 0.02448617, -0.00877795, -0.02189048, ..., -0.02766046,\n",
       "          0.03859074, -0.06889391],\n",
       "        [ 0.00476504, -0.03105379, -0.0586676 , ...,  0.00602964,\n",
       "         -0.02763776, -0.04165364],\n",
       "        [-0.06189284, -0.06901957,  0.07102345, ..., -0.04238207,\n",
       "          0.07121518, -0.07331658],\n",
       "        ...,\n",
       "        [-0.03048757,  0.02155137, -0.05400612, ..., -0.00113463,\n",
       "          0.00228987,  0.05581069],\n",
       "        [ 0.07061854, -0.06960931,  0.07038955, ..., -0.00384101,\n",
       "          0.00034875,  0.02878492],\n",
       "        [-0.06022581,  0.01577859, -0.02585464, ..., -0.00527829,\n",
       "          0.00272203, -0.06793761]], dtype=float32)>,\n",
       " <tf.Variable 'dense/bias:0' shape=(300,) dtype=float32, numpy=\n",
       " array([0., 0., 0., 0., 0., 0., 0., 0., 0., 0., 0., 0., 0., 0., 0., 0., 0.,\n",
       "        0., 0., 0., 0., 0., 0., 0., 0., 0., 0., 0., 0., 0., 0., 0., 0., 0.,\n",
       "        0., 0., 0., 0., 0., 0., 0., 0., 0., 0., 0., 0., 0., 0., 0., 0., 0.,\n",
       "        0., 0., 0., 0., 0., 0., 0., 0., 0., 0., 0., 0., 0., 0., 0., 0., 0.,\n",
       "        0., 0., 0., 0., 0., 0., 0., 0., 0., 0., 0., 0., 0., 0., 0., 0., 0.,\n",
       "        0., 0., 0., 0., 0., 0., 0., 0., 0., 0., 0., 0., 0., 0., 0., 0., 0.,\n",
       "        0., 0., 0., 0., 0., 0., 0., 0., 0., 0., 0., 0., 0., 0., 0., 0., 0.,\n",
       "        0., 0., 0., 0., 0., 0., 0., 0., 0., 0., 0., 0., 0., 0., 0., 0., 0.,\n",
       "        0., 0., 0., 0., 0., 0., 0., 0., 0., 0., 0., 0., 0., 0., 0., 0., 0.,\n",
       "        0., 0., 0., 0., 0., 0., 0., 0., 0., 0., 0., 0., 0., 0., 0., 0., 0.,\n",
       "        0., 0., 0., 0., 0., 0., 0., 0., 0., 0., 0., 0., 0., 0., 0., 0., 0.,\n",
       "        0., 0., 0., 0., 0., 0., 0., 0., 0., 0., 0., 0., 0., 0., 0., 0., 0.,\n",
       "        0., 0., 0., 0., 0., 0., 0., 0., 0., 0., 0., 0., 0., 0., 0., 0., 0.,\n",
       "        0., 0., 0., 0., 0., 0., 0., 0., 0., 0., 0., 0., 0., 0., 0., 0., 0.,\n",
       "        0., 0., 0., 0., 0., 0., 0., 0., 0., 0., 0., 0., 0., 0., 0., 0., 0.,\n",
       "        0., 0., 0., 0., 0., 0., 0., 0., 0., 0., 0., 0., 0., 0., 0., 0., 0.,\n",
       "        0., 0., 0., 0., 0., 0., 0., 0., 0., 0., 0., 0., 0., 0., 0., 0., 0.,\n",
       "        0., 0., 0., 0., 0., 0., 0., 0., 0., 0., 0.], dtype=float32)>]"
      ]
     },
     "execution_count": 26,
     "metadata": {},
     "output_type": "execute_result"
    }
   ],
   "source": [
    "hidden1.trainable_weights"
   ]
  },
  {
   "cell_type": "code",
   "execution_count": 27,
   "metadata": {
    "ExecuteTime": {
     "end_time": "2020-01-02T01:52:05.921644Z",
     "start_time": "2020-01-02T01:52:05.917522Z"
    }
   },
   "outputs": [
    {
     "data": {
      "text/plain": [
       "True"
      ]
     },
     "execution_count": 27,
     "metadata": {},
     "output_type": "execute_result"
    }
   ],
   "source": [
    "model.get_layer('dense') is hidden1"
   ]
  },
  {
   "cell_type": "code",
   "execution_count": 28,
   "metadata": {
    "ExecuteTime": {
     "end_time": "2020-01-02T01:52:05.926307Z",
     "start_time": "2020-01-02T01:52:05.923414Z"
    }
   },
   "outputs": [],
   "source": [
    "# use `get_weights()` and `set_weights()` to access all the parameters of a layer\n",
    "weights, biases = hidden1.get_weights()"
   ]
  },
  {
   "cell_type": "code",
   "execution_count": 29,
   "metadata": {
    "ExecuteTime": {
     "end_time": "2020-01-02T01:52:05.932787Z",
     "start_time": "2020-01-02T01:52:05.928220Z"
    }
   },
   "outputs": [
    {
     "data": {
      "text/plain": [
       "array([[ 0.02448617, -0.00877795, -0.02189048, ..., -0.02766046,\n",
       "         0.03859074, -0.06889391],\n",
       "       [ 0.00476504, -0.03105379, -0.0586676 , ...,  0.00602964,\n",
       "        -0.02763776, -0.04165364],\n",
       "       [-0.06189284, -0.06901957,  0.07102345, ..., -0.04238207,\n",
       "         0.07121518, -0.07331658],\n",
       "       ...,\n",
       "       [-0.03048757,  0.02155137, -0.05400612, ..., -0.00113463,\n",
       "         0.00228987,  0.05581069],\n",
       "       [ 0.07061854, -0.06960931,  0.07038955, ..., -0.00384101,\n",
       "         0.00034875,  0.02878492],\n",
       "       [-0.06022581,  0.01577859, -0.02585464, ..., -0.00527829,\n",
       "         0.00272203, -0.06793761]], dtype=float32)"
      ]
     },
     "execution_count": 29,
     "metadata": {},
     "output_type": "execute_result"
    }
   ],
   "source": [
    "weights  # shape: (784, 300)"
   ]
  },
  {
   "cell_type": "code",
   "execution_count": 30,
   "metadata": {
    "ExecuteTime": {
     "end_time": "2020-01-02T01:52:05.940837Z",
     "start_time": "2020-01-02T01:52:05.934784Z"
    }
   },
   "outputs": [
    {
     "data": {
      "text/plain": [
       "array([0., 0., 0., 0., 0., 0., 0., 0., 0., 0., 0., 0., 0., 0., 0., 0., 0.,\n",
       "       0., 0., 0., 0., 0., 0., 0., 0., 0., 0., 0., 0., 0., 0., 0., 0., 0.,\n",
       "       0., 0., 0., 0., 0., 0., 0., 0., 0., 0., 0., 0., 0., 0., 0., 0., 0.,\n",
       "       0., 0., 0., 0., 0., 0., 0., 0., 0., 0., 0., 0., 0., 0., 0., 0., 0.,\n",
       "       0., 0., 0., 0., 0., 0., 0., 0., 0., 0., 0., 0., 0., 0., 0., 0., 0.,\n",
       "       0., 0., 0., 0., 0., 0., 0., 0., 0., 0., 0., 0., 0., 0., 0., 0., 0.,\n",
       "       0., 0., 0., 0., 0., 0., 0., 0., 0., 0., 0., 0., 0., 0., 0., 0., 0.,\n",
       "       0., 0., 0., 0., 0., 0., 0., 0., 0., 0., 0., 0., 0., 0., 0., 0., 0.,\n",
       "       0., 0., 0., 0., 0., 0., 0., 0., 0., 0., 0., 0., 0., 0., 0., 0., 0.,\n",
       "       0., 0., 0., 0., 0., 0., 0., 0., 0., 0., 0., 0., 0., 0., 0., 0., 0.,\n",
       "       0., 0., 0., 0., 0., 0., 0., 0., 0., 0., 0., 0., 0., 0., 0., 0., 0.,\n",
       "       0., 0., 0., 0., 0., 0., 0., 0., 0., 0., 0., 0., 0., 0., 0., 0., 0.,\n",
       "       0., 0., 0., 0., 0., 0., 0., 0., 0., 0., 0., 0., 0., 0., 0., 0., 0.,\n",
       "       0., 0., 0., 0., 0., 0., 0., 0., 0., 0., 0., 0., 0., 0., 0., 0., 0.,\n",
       "       0., 0., 0., 0., 0., 0., 0., 0., 0., 0., 0., 0., 0., 0., 0., 0., 0.,\n",
       "       0., 0., 0., 0., 0., 0., 0., 0., 0., 0., 0., 0., 0., 0., 0., 0., 0.,\n",
       "       0., 0., 0., 0., 0., 0., 0., 0., 0., 0., 0., 0., 0., 0., 0., 0., 0.,\n",
       "       0., 0., 0., 0., 0., 0., 0., 0., 0., 0., 0.], dtype=float32)"
      ]
     },
     "execution_count": 30,
     "metadata": {},
     "output_type": "execute_result"
    }
   ],
   "source": [
    "biases  # shape: (300,)"
   ]
  },
  {
   "cell_type": "markdown",
   "metadata": {},
   "source": [
    "The `Dense` layer's weights (<font color='blue'>kernel is another name for the matrix of connection weights</font>) were initialized randomly (to break symmetry), and the biases were initialized to zeros."
   ]
  },
  {
   "cell_type": "markdown",
   "metadata": {},
   "source": [
    "**<font color='red' size=4>Note:</font>**\n",
    "\n",
    "The shape of the weight matrix depends on the number of inputs. This is why it is recommended to specify the `input_shape` when creating the first layer in a Sequential model. However, if you **do not specify the input shape, it’s OK**: Keras will **simply wait until it knows the input shape before it actually builds the model**. This will happen either when you **feed it actual data (e.g., during training)**, or when you **call its `build()` method**. **Until the model is really built, the layers will not have any weights, and you will not be able to do certain things (such as print the model summary or save the model)**. So, if you know the input shape when creating the model, it is best to specify it."
   ]
  },
  {
   "cell_type": "code",
   "execution_count": 31,
   "metadata": {
    "ExecuteTime": {
     "end_time": "2020-01-02T01:52:05.958565Z",
     "start_time": "2020-01-02T01:52:05.942779Z"
    }
   },
   "outputs": [
    {
     "name": "stdout",
     "output_type": "stream",
     "text": [
      "Failed to import pydot. You must install pydot and graphviz for `pydotprint` to work.\n"
     ]
    }
   ],
   "source": [
    "keras.utils.plot_model(model, './figs/chap10-figs/mnist_model.png',\n",
    "                       show_shapes=True, show_layer_names=True)"
   ]
  },
  {
   "cell_type": "code",
   "execution_count": 32,
   "metadata": {
    "ExecuteTime": {
     "end_time": "2020-01-02T01:52:06.008185Z",
     "start_time": "2020-01-02T01:52:05.961415Z"
    }
   },
   "outputs": [],
   "source": [
    "# after the model is created, must call its `compile()` method\n",
    "model.compile(loss='sparse_categorical_crossentropy',\n",
    "              optimizer='sgd',\n",
    "              # a list of (multiple) metrics to compute during training and evaluation\n",
    "              metrics=['acc'])"
   ]
  },
  {
   "cell_type": "markdown",
   "metadata": {},
   "source": [
    "This is equivalent to\n",
    "\n",
    "```python\n",
    "model.compile(loss=keras.losses.sparse_categorical_crossentropy,\n",
    "              optimizer=keras.optimizers.SGD(),\n",
    "              metrics=[keras.metrics.sparse_categorical_accuracy])\n",
    "```"
   ]
  },
  {
   "cell_type": "markdown",
   "metadata": {},
   "source": [
    "+ Use the **`loss='sparse_categorical_crossentropy'`** because we have **sparse labels** (i.e., for each instance, there is just a target class index, from 0 to 9 in this case), and the classes are exclusive (互斥的).\n",
    "\n",
    "\n",
    "+ If instead we had **one target probability per class for each instance** (such as one-hot vectors, e.g. `[0., 0., 0., 1., 0., 0., 0., 0., 0., 0.]` to represent class 3), then we would need to **use the `loss='categorical_crossentropy'` loss** instead.\n",
    "\n",
    "\n",
    "+ use the **`'sigmoid'`** (i.e., logistic) activation function in the output layer, and **use `loss='binary_crossentropy'`**  when **doing binary classification** (with one or more binary labels)"
   ]
  },
  {
   "cell_type": "code",
   "execution_count": 34,
   "metadata": {
    "ExecuteTime": {
     "end_time": "2020-01-02T02:07:50.143120Z",
     "start_time": "2020-01-02T02:07:50.139244Z"
    }
   },
   "outputs": [
    {
     "data": {
      "text/plain": [
       "array([4, 0, 7, ..., 3, 0, 5], dtype=uint8)"
      ]
     },
     "execution_count": 34,
     "metadata": {},
     "output_type": "execute_result"
    }
   ],
   "source": [
    "y_train"
   ]
  },
  {
   "cell_type": "code",
   "execution_count": 35,
   "metadata": {
    "ExecuteTime": {
     "end_time": "2020-01-02T02:08:00.254078Z",
     "start_time": "2020-01-02T02:08:00.248309Z"
    }
   },
   "outputs": [
    {
     "data": {
      "text/plain": [
       "array([[0., 0., 0., ..., 0., 0., 0.],\n",
       "       [1., 0., 0., ..., 0., 0., 0.],\n",
       "       [0., 0., 0., ..., 1., 0., 0.],\n",
       "       ...,\n",
       "       [0., 0., 0., ..., 0., 0., 0.],\n",
       "       [1., 0., 0., ..., 0., 0., 0.],\n",
       "       [0., 0., 0., ..., 0., 0., 0.]], dtype=float32)"
      ]
     },
     "execution_count": 35,
     "metadata": {},
     "output_type": "execute_result"
    }
   ],
   "source": [
    "# convert sparse labels (i.e., class indices) to one-hot vector labels\n",
    "keras.utils.to_categorical(y_train)"
   ]
  },
  {
   "cell_type": "code",
   "execution_count": 36,
   "metadata": {
    "ExecuteTime": {
     "end_time": "2020-01-02T02:08:36.893665Z",
     "start_time": "2020-01-02T02:08:36.881395Z"
    }
   },
   "outputs": [
    {
     "data": {
      "text/plain": [
       "array([4, 0, 7, ..., 3, 0, 5])"
      ]
     },
     "execution_count": 36,
     "metadata": {},
     "output_type": "execute_result"
    }
   ],
   "source": [
    "np.argmax(keras.utils.to_categorical(y_train), axis=1)"
   ]
  },
  {
   "cell_type": "markdown",
   "metadata": {},
   "source": [
    "Regarding the optimizer, `\"sgd\"` means that we will train the model using simple Stochastic Gradient Descent. **<font color='blue'>When using the SGD optimizer, it is important to tune the learning rate.</font>** So, you will generally want to use `optimizer=keras.optimizers.SGD(lr=???)` to set the learning rate, rather than `optimizer='sgd'`, which defaults to `lr=0.01`."
   ]
  },
  {
   "cell_type": "code",
   "execution_count": 37,
   "metadata": {
    "ExecuteTime": {
     "end_time": "2020-01-02T02:13:02.948081Z",
     "start_time": "2020-01-02T02:11:00.867088Z"
    },
    "scrolled": true
   },
   "outputs": [
    {
     "name": "stdout",
     "output_type": "stream",
     "text": [
      "Train on 55000 samples, validate on 5000 samples\n",
      "Epoch 1/30\n",
      "55000/55000 [==============================] - 4s 80us/sample - loss: 0.7228 - acc: 0.7623 - val_loss: 0.5304 - val_acc: 0.8160\n",
      "Epoch 2/30\n",
      "55000/55000 [==============================] - 4s 71us/sample - loss: 0.4838 - acc: 0.8323 - val_loss: 0.4494 - val_acc: 0.8454\n",
      "Epoch 3/30\n",
      "55000/55000 [==============================] - 4s 72us/sample - loss: 0.4379 - acc: 0.8475 - val_loss: 0.4173 - val_acc: 0.8548\n",
      "Epoch 4/30\n",
      "55000/55000 [==============================] - 4s 71us/sample - loss: 0.4126 - acc: 0.8555 - val_loss: 0.3898 - val_acc: 0.8660\n",
      "Epoch 5/30\n",
      "55000/55000 [==============================] - 4s 75us/sample - loss: 0.3930 - acc: 0.8626 - val_loss: 0.3987 - val_acc: 0.8610\n",
      "Epoch 6/30\n",
      "55000/55000 [==============================] - 4s 73us/sample - loss: 0.3776 - acc: 0.8672 - val_loss: 0.3730 - val_acc: 0.8732\n",
      "Epoch 7/30\n",
      "55000/55000 [==============================] - 4s 75us/sample - loss: 0.3645 - acc: 0.8709 - val_loss: 0.3663 - val_acc: 0.8692\n",
      "Epoch 8/30\n",
      "55000/55000 [==============================] - 4s 71us/sample - loss: 0.3526 - acc: 0.8743 - val_loss: 0.3614 - val_acc: 0.8736\n",
      "Epoch 9/30\n",
      "55000/55000 [==============================] - 4s 71us/sample - loss: 0.3414 - acc: 0.8787 - val_loss: 0.3648 - val_acc: 0.8746\n",
      "Epoch 10/30\n",
      "55000/55000 [==============================] - 4s 72us/sample - loss: 0.3323 - acc: 0.8814 - val_loss: 0.3480 - val_acc: 0.8790\n",
      "Epoch 11/30\n",
      "55000/55000 [==============================] - 4s 72us/sample - loss: 0.3247 - acc: 0.8839 - val_loss: 0.3387 - val_acc: 0.8798\n",
      "Epoch 12/30\n",
      "55000/55000 [==============================] - 4s 72us/sample - loss: 0.3171 - acc: 0.8862 - val_loss: 0.3406 - val_acc: 0.8800\n",
      "Epoch 13/30\n",
      "55000/55000 [==============================] - 4s 72us/sample - loss: 0.3093 - acc: 0.8887 - val_loss: 0.3294 - val_acc: 0.8834\n",
      "Epoch 14/30\n",
      "55000/55000 [==============================] - 4s 73us/sample - loss: 0.3029 - acc: 0.8915 - val_loss: 0.3228 - val_acc: 0.8848\n",
      "Epoch 15/30\n",
      "55000/55000 [==============================] - 4s 74us/sample - loss: 0.2960 - acc: 0.8944 - val_loss: 0.3247 - val_acc: 0.8838\n",
      "Epoch 16/30\n",
      "55000/55000 [==============================] - 4s 73us/sample - loss: 0.2896 - acc: 0.8952 - val_loss: 0.3293 - val_acc: 0.8788\n",
      "Epoch 17/30\n",
      "55000/55000 [==============================] - 4s 74us/sample - loss: 0.2833 - acc: 0.8979 - val_loss: 0.3109 - val_acc: 0.8896\n",
      "Epoch 18/30\n",
      "55000/55000 [==============================] - 4s 73us/sample - loss: 0.2773 - acc: 0.9001 - val_loss: 0.3264 - val_acc: 0.8848\n",
      "Epoch 19/30\n",
      "55000/55000 [==============================] - 4s 73us/sample - loss: 0.2730 - acc: 0.9021 - val_loss: 0.3572 - val_acc: 0.8660\n",
      "Epoch 20/30\n",
      "55000/55000 [==============================] - 4s 73us/sample - loss: 0.2683 - acc: 0.9034 - val_loss: 0.3015 - val_acc: 0.8926\n",
      "Epoch 21/30\n",
      "55000/55000 [==============================] - 4s 73us/sample - loss: 0.2628 - acc: 0.9059 - val_loss: 0.3175 - val_acc: 0.8846\n",
      "Epoch 22/30\n",
      "55000/55000 [==============================] - 4s 73us/sample - loss: 0.2585 - acc: 0.9063 - val_loss: 0.3164 - val_acc: 0.8878\n",
      "Epoch 23/30\n",
      "55000/55000 [==============================] - 4s 73us/sample - loss: 0.2549 - acc: 0.9083 - val_loss: 0.3035 - val_acc: 0.8924\n",
      "Epoch 24/30\n",
      "55000/55000 [==============================] - 4s 73us/sample - loss: 0.2483 - acc: 0.9101 - val_loss: 0.3013 - val_acc: 0.8930\n",
      "Epoch 25/30\n",
      "55000/55000 [==============================] - 4s 73us/sample - loss: 0.2451 - acc: 0.9123 - val_loss: 0.3071 - val_acc: 0.8890\n",
      "Epoch 26/30\n",
      "55000/55000 [==============================] - 4s 74us/sample - loss: 0.2409 - acc: 0.9144 - val_loss: 0.3194 - val_acc: 0.8828\n",
      "Epoch 27/30\n",
      "55000/55000 [==============================] - 4s 79us/sample - loss: 0.2362 - acc: 0.9146 - val_loss: 0.2990 - val_acc: 0.8896\n",
      "Epoch 28/30\n",
      "55000/55000 [==============================] - 5s 83us/sample - loss: 0.2333 - acc: 0.9157 - val_loss: 0.2989 - val_acc: 0.8946\n",
      "Epoch 29/30\n",
      "55000/55000 [==============================] - 4s 75us/sample - loss: 0.2290 - acc: 0.9178 - val_loss: 0.2978 - val_acc: 0.8946\n",
      "Epoch 30/30\n",
      "55000/55000 [==============================] - 4s 81us/sample - loss: 0.2251 - acc: 0.9181 - val_loss: 0.3308 - val_acc: 0.8816\n"
     ]
    }
   ],
   "source": [
    "history = model.fit(x_train, y_train, epochs=30, validation_data=(x_val, y_val))"
   ]
  },
  {
   "cell_type": "markdown",
   "metadata": {},
   "source": [
    "+ `epochs` default to just 1, which would definitely not be enough to converge to a good solution.\n",
    "\n",
    "\n",
    "+ Keras will measure the loss and the extra metrics on validation set (this is optional) at the end of each epoch, which is very useful to see how well the model really performs. **<font color='blue'>If the performance on the training set is much better than on the validation set, your model is probably overfitting the training set (or there is a bug, such as a data mismatch between the training set and the validation set).</font>**"
   ]
  },
  {
   "cell_type": "markdown",
   "metadata": {},
   "source": [
    "At each epoch during training, Keras displays:\n",
    "\n",
    "+ the number of instances processed so far (along with a progress bar)\n",
    "\n",
    "\n",
    "+ the mean training time per sample\n",
    "\n",
    "\n",
    "+ the loss and accuracy (or any other extra metrics passed) on both the training set and the validation set (optional)."
   ]
  },
  {
   "cell_type": "markdown",
   "metadata": {},
   "source": [
    "**<font color='red' size=4>Tip:</font>**\n",
    "\n",
    "Instead of passing a validation set using the `validation_data` argument, you could set `validation_split` to the ratio of the training set that you want Keras to use for validation. For example, `validation_split=0.1` tells Keras to use the **last 10%** of the data (before shuffling) for validation."
   ]
  },
  {
   "cell_type": "markdown",
   "metadata": {},
   "source": [
    "+ If **the training set was very skewed**, with some classes being overrepresented and others underrepresented, it would be useful to set the **<font color='red'>class_weight</font>** argument when calling the `fit()` method, which would **give a larger weight to underrepresented classes and a lower weight to overrepresented classes**. **These weights would be used by Keras when computing the loss**. \n",
    "\n",
    "\n",
    "+ If you need per-instance weights, set the **<font color='red'>sample_weight</font>** argument (**if both `class_weight` and `sample_weight` are provided, Keras multiplies them**). Per-instance weights could be **useful if some instances were labeled by experts while others were labeled using a crowdsourcing platform**: you might want to give more weight to the former. You can also **provide sample weights (but not class weights) for the validation set** by adding them as a third item in the `validation_data` tuple."
   ]
  },
  {
   "cell_type": "markdown",
   "metadata": {},
   "source": [
    "**The `fit()` method returns a `History` object containing:**\n",
    "\n",
    "+ the training parameters (`history.params`)\n",
    "\n",
    "\n",
    "+ the list of epochs it went through (`history.epoch`)\n",
    "\n",
    "\n",
    "+ most importantly a dictionary (`history.history`) containing the loss and extra metrics it measured at the end of each epoch on the training set and on the validation set (if any)"
   ]
  },
  {
   "cell_type": "code",
   "execution_count": 38,
   "metadata": {
    "ExecuteTime": {
     "end_time": "2020-01-02T02:23:46.328202Z",
     "start_time": "2020-01-02T02:23:46.324367Z"
    }
   },
   "outputs": [
    {
     "data": {
      "text/plain": [
       "{'batch_size': 32,\n",
       " 'epochs': 30,\n",
       " 'steps': 1719,\n",
       " 'samples': 55000,\n",
       " 'verbose': 0,\n",
       " 'do_validation': True,\n",
       " 'metrics': ['loss', 'acc', 'val_loss', 'val_acc']}"
      ]
     },
     "execution_count": 38,
     "metadata": {},
     "output_type": "execute_result"
    }
   ],
   "source": [
    "history.params"
   ]
  },
  {
   "cell_type": "code",
   "execution_count": 40,
   "metadata": {
    "ExecuteTime": {
     "end_time": "2020-01-02T02:23:56.304432Z",
     "start_time": "2020-01-02T02:23:56.301510Z"
    }
   },
   "outputs": [
    {
     "name": "stdout",
     "output_type": "stream",
     "text": [
      "[0, 1, 2, 3, 4, 5, 6, 7, 8, 9, 10, 11, 12, 13, 14, 15, 16, 17, 18, 19, 20, 21, 22, 23, 24, 25, 26, 27, 28, 29]\n"
     ]
    }
   ],
   "source": [
    "print(history.epoch)"
   ]
  },
  {
   "cell_type": "code",
   "execution_count": 41,
   "metadata": {
    "ExecuteTime": {
     "end_time": "2020-01-02T02:24:18.493353Z",
     "start_time": "2020-01-02T02:24:18.489741Z"
    }
   },
   "outputs": [
    {
     "data": {
      "text/plain": [
       "['loss', 'acc']"
      ]
     },
     "execution_count": 41,
     "metadata": {},
     "output_type": "execute_result"
    }
   ],
   "source": [
    "model.metrics_names"
   ]
  },
  {
   "cell_type": "code",
   "execution_count": 43,
   "metadata": {
    "ExecuteTime": {
     "end_time": "2020-01-02T02:24:53.643675Z",
     "start_time": "2020-01-02T02:24:53.436102Z"
    }
   },
   "outputs": [
    {
     "data": {
      "image/png": "[encoded data removed]",
      "text/plain": [
       "<Figure size 576x360 with 1 Axes>"
      ]
     },
     "metadata": {
      "needs_background": "light"
     },
     "output_type": "display_data"
    }
   ],
   "source": [
    "pd.DataFrame(history.history).plot(figsize=(8, 5))\n",
    "plt.grid(True)\n",
    "plt.gca().set_ylim(0, 1)\n",
    "plt.show()"
   ]
  },
  {
   "cell_type": "markdown",
   "metadata": {},
   "source": [
    "+ The training accuracy and the validation accuracy steadily increase during training, while the training loss and the validation loss decrease. Good!\n",
    "\n",
    "\n",
    "+ **The validation curves are close to the training curves, which means that there is not too much overfitting**.\n",
    "\n",
    "\n",
    "+ In this particular case, the model looks like it performed better on the validation set than on the training set at the beginning of training. But that’s not the case: indeed, **the validation error is computed at the end of each epoch**, while **the training error is computed using a running mean during each epoch**. So **the training curve should be shifted by half an epoch to the left**. If you do that, you will see that the training and validation curves overlap almost perfectly at the beginning of training. **<font color='red'>When plotting the training curve, it should be shifted by half an epoch to the left.</font>**"
   ]
  },
  {
   "cell_type": "markdown",
   "metadata": {},
   "source": [
    "The training set performance ends up beating the validation performance, as is generally the case when you train for long enough. You can tell that **the model has not quite converged yet, as the validation loss is still going down**, so you should probably continue training. It’s as simple as **<font color='red'>calling the `fit()` method again, since Keras just continues training where it left off</font>** (you should be able to reach close to 89% validation accuracy)."
   ]
  },
  {
   "cell_type": "markdown",
   "metadata": {},
   "source": [
    "**Tune the hyperparameters:**\n",
    "1. the first one to check is the learning rate (**always retune the learning rate after changing any hyperparameter**)\n",
    "2. try another optimizer (if 1 does not help)\n",
    "3. if still not great, try tuning model hyperparameters such as the number of layers, the number of units per layer, and the types of activation functions to use for each hidden layer.\n",
    "4. can also try tuning other hyperparameters, such as the batch size (it can be set in the `fit()` method using the `batch_size` argument, which *defaults to 32*)"
   ]
  },
  {
   "cell_type": "code",
   "execution_count": 46,
   "metadata": {
    "ExecuteTime": {
     "end_time": "2020-01-02T02:39:04.886500Z",
     "start_time": "2020-01-02T02:39:04.506457Z"
    }
   },
   "outputs": [
    {
     "name": "stdout",
     "output_type": "stream",
     "text": [
      "10000/1 - 0s - loss: 0.3194 - acc: 0.8681\n"
     ]
    },
    {
     "data": {
      "text/plain": [
       "[0.36434496695995333, 0.8681]"
      ]
     },
     "execution_count": 46,
     "metadata": {},
     "output_type": "execute_result"
    }
   ],
   "source": [
    "# Once you are satisfied with your model’s validation accuracy,\n",
    "# you should evaluate it on the test set to estimate the generalization error\n",
    "# before you deploy the model to production.\n",
    "model.evaluate(x_test, y_test, verbose=2)  # `batch_size` and `sample_weight` are supported"
   ]
  },
  {
   "cell_type": "markdown",
   "metadata": {},
   "source": [
    "<font color='blue'>It is common to get slightly lower performance on the test set than on the validation set, because the hyperparameters are tuned on the validation set, not the test set</font> (however, in this example, we did not do any hyperparameter tuning, so the lower accuracy is just bad luck). **Remember to resist the temptation to tweak the hyperparameters on the test set**, or else your estimate of the generalization error will be too optimistic."
   ]
  },
  {
   "cell_type": "code",
   "execution_count": 47,
   "metadata": {
    "ExecuteTime": {
     "end_time": "2020-01-02T02:41:53.386524Z",
     "start_time": "2020-01-02T02:41:53.313965Z"
    }
   },
   "outputs": [
    {
     "data": {
      "text/plain": [
       "array([[0.  , 0.  , 0.  , 0.  , 0.  , 0.01, 0.  , 0.01, 0.  , 0.98],\n",
       "       [0.  , 0.  , 1.  , 0.  , 0.  , 0.  , 0.  , 0.  , 0.  , 0.  ],\n",
       "       [0.  , 1.  , 0.  , 0.  , 0.  , 0.  , 0.  , 0.  , 0.  , 0.  ]],\n",
       "      dtype=float32)"
      ]
     },
     "execution_count": 47,
     "metadata": {},
     "output_type": "execute_result"
    }
   ],
   "source": [
    "# make predictions on new instances\n",
    "x_new = x_test[:3]\n",
    "y_proba = model.predict(x_new)\n",
    "y_proba.round(2)"
   ]
  },
  {
   "cell_type": "markdown",
   "metadata": {},
   "source": [
    "> for each instance the model estimates one probability per class, from class 0 to class 9."
   ]
  },
  {
   "cell_type": "code",
   "execution_count": 48,
   "metadata": {
    "ExecuteTime": {
     "end_time": "2020-01-02T02:42:20.703366Z",
     "start_time": "2020-01-02T02:42:20.699213Z"
    }
   },
   "outputs": [
    {
     "data": {
      "text/plain": [
       "array([9, 2, 1])"
      ]
     },
     "execution_count": 48,
     "metadata": {},
     "output_type": "execute_result"
    }
   ],
   "source": [
    "np.argmax(y_proba, axis=1)"
   ]
  },
  {
   "cell_type": "code",
   "execution_count": 51,
   "metadata": {
    "ExecuteTime": {
     "end_time": "2020-01-02T02:44:33.304697Z",
     "start_time": "2020-01-02T02:44:33.269200Z"
    }
   },
   "outputs": [
    {
     "data": {
      "text/plain": [
       "array([9, 2, 1])"
      ]
     },
     "execution_count": 51,
     "metadata": {},
     "output_type": "execute_result"
    }
   ],
   "source": [
    "# only care about the class with the highest estimated probability (even if that probability is quite low)\n",
    "y_pred = model.predict_classes(x_new)\n",
    "y_pred"
   ]
  },
  {
   "cell_type": "code",
   "execution_count": 52,
   "metadata": {
    "ExecuteTime": {
     "end_time": "2020-01-02T02:44:39.070005Z",
     "start_time": "2020-01-02T02:44:39.066042Z"
    }
   },
   "outputs": [
    {
     "data": {
      "text/plain": [
       "array(['Ankle boot', 'Pullover', 'Trouser'], dtype='<U11')"
      ]
     },
     "execution_count": 52,
     "metadata": {},
     "output_type": "execute_result"
    }
   ],
   "source": [
    "np.array(class_names)[y_pred]"
   ]
  },
  {
   "cell_type": "code",
   "execution_count": null,
   "metadata": {},
   "outputs": [],
   "source": []
  },
  {
   "cell_type": "code",
   "execution_count": null,
   "metadata": {},
   "outputs": [],
   "source": []
  },
  {
   "cell_type": "code",
   "execution_count": null,
   "metadata": {},
   "outputs": [],
   "source": []
  }
 ],
 "metadata": {
  "kernelspec": {
   "display_name": "Python 3",
   "language": "python",
   "name": "python3"
  },
  "language_info": {
   "codemirror_mode": {
    "name": "ipython",
    "version": 3
   },
   "file_extension": ".py",
   "mimetype": "text/x-python",
   "name": "python",
   "nbconvert_exporter": "python",
   "pygments_lexer": "ipython3",
   "version": "3.6.9"
  },
  "toc": {
   "base_numbering": 1,
   "nav_menu": {},
   "number_sections": true,
   "sideBar": true,
   "skip_h1_title": false,
   "title_cell": "Table of Contents",
   "title_sidebar": "Contents",
   "toc_cell": false,
   "toc_position": {},
   "toc_section_display": true,
   "toc_window_display": false
  },
  "varInspector": {
   "cols": {
    "lenName": 16,
    "lenType": 16,
    "lenVar": 40
   },
   "kernels_config": {
    "python": {
     "delete_cmd_postfix": "",
     "delete_cmd_prefix": "del ",
     "library": "var_list.py",
     "varRefreshCmd": "print(var_dic_list())"
    },
    "r": {
     "delete_cmd_postfix": ") ",
     "delete_cmd_prefix": "rm(",
     "library": "var_list.r",
     "varRefreshCmd": "cat(var_dic_list()) "
    }
   },
   "types_to_exclude": [
    "module",
    "function",
    "builtin_function_or_method",
    "instance",
    "_Feature"
   ],
   "window_display": false
  }
 },
 "nbformat": 4,
 "nbformat_minor": 2
}
